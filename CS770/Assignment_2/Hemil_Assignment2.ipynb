{
 "cells": [
  {
   "cell_type": "markdown",
   "id": "81f17745",
   "metadata": {},
   "source": [
    "# ASSIGNMENT BUILDING & CREATING ISSUES FOR STUDENTS"
   ]
  },
  {
   "cell_type": "code",
   "execution_count": 3,
   "id": "d4c0be5c",
   "metadata": {},
   "outputs": [],
   "source": [
    "import pandas as pd\n",
    "import numpy as np\n",
    "import seaborn as sns\n",
    "import matplotlib.pyplot as plt\n",
    "\n",
    "pd.options.display.max_columns = 100\n",
    "pd.options.display.max_rows = 200\n",
    "\n",
    "pd.set_option('display.float_format', lambda x: '%.3f' % x)"
   ]
  },
  {
   "cell_type": "markdown",
   "id": "cf3dd4be",
   "metadata": {},
   "source": [
    "# Working with the Sales Data"
   ]
  },
  {
   "cell_type": "markdown",
   "id": "c23d96d5",
   "metadata": {},
   "source": [
    "## 01 Data Ingestion, Initial EDA and Cleaning"
   ]
  },
  {
   "cell_type": "code",
   "execution_count": 4,
   "id": "d9a6ce71",
   "metadata": {},
   "outputs": [
    {
     "name": "stdout",
     "output_type": "stream",
     "text": [
      "Shape of dataframe: (2841, 14)\n",
      "First 3 rows of the dataframe:\n",
      "   ORDER_NUMBER  ORDER_DATE  LINE_ITEM_NUMBER  QUANTITY_ORDERED  PRICE_EACH  \\\n",
      "0         10107  2018-02-24                 2           108.000     300.240   \n",
      "1         10329  2019-11-15                 1           139.000     300.240   \n",
      "2         10107  2018-02-24                 5           120.000     286.120   \n",
      "\n",
      "      SALES   STATUS PRODUCT_CATEGORY  HAS_MSRP PRODUCT_CODE DEAL_SIZE  \\\n",
      "0 22947.880  Shipped          Poultry         1     S10_1678     Small   \n",
      "1 29545.290  Shipped          Poultry         1     S10_1678    Medium   \n",
      "2 22067.150  Shipped          Poultry         1     S10_2016    Medium   \n",
      "\n",
      "  CUSTOMER_NAME  CUSTOMER_ID CUSTOMER_STATUS  \n",
      "0        COSTCO        81313          Active  \n",
      "1        COSTCO        81313          Active  \n",
      "2        COSTCO        81313          Active  \n"
     ]
    }
   ],
   "source": [
    "# In this cell, complete the following:\n",
    "#   Read the csv Sales_Data.csv creating a dataframe called \"sales_df\"\n",
    "#   Use the parse_dates argument to parse any datetime columns\n",
    "#   Use list comprehension to convert the column headers to uppercase\n",
    "#      Hint: you will need to use col.upper()\n",
    "#   Print the shape of the dataframe\n",
    "#   Show the first 3 rows of the dataframe\n",
    "# 5 points\n",
    "\n",
    "sales_df = pd.read_csv(\"Sales_Data.csv\", parse_dates=True)\n",
    "sales_df.columns = [col.upper() for col in sales_df.columns]\n",
    "\n",
    "print(\"Shape of dataframe:\", sales_df.shape)\n",
    "print(\"First 3 rows of the dataframe:\")\n",
    "print(sales_df.head(3))"
   ]
  },
  {
   "cell_type": "code",
   "execution_count": 5,
   "id": "94dce699",
   "metadata": {},
   "outputs": [
    {
     "data": {
      "text/plain": [
       "True"
      ]
     },
     "execution_count": 5,
     "metadata": {},
     "output_type": "execute_result"
    }
   ],
   "source": [
    "# In this cell, run duplicated() and any() to determine if the dataframe (sales_df) has any duplicates in sales_df\n",
    "# 1 point\n",
    "sales_df.duplicated().any()"
   ]
  },
  {
   "cell_type": "code",
   "execution_count": 6,
   "id": "9bc98b91",
   "metadata": {},
   "outputs": [
    {
     "data": {
      "text/plain": [
       "5"
      ]
     },
     "execution_count": 6,
     "metadata": {},
     "output_type": "execute_result"
    }
   ],
   "source": [
    "# In this cell, run duplicated() and sum() to report the number of duplicates in sales_df\n",
    "# 1 point\n",
    "sales_df.duplicated().sum()"
   ]
  },
  {
   "cell_type": "code",
   "execution_count": 7,
   "id": "03242059",
   "metadata": {},
   "outputs": [
    {
     "name": "stdout",
     "output_type": "stream",
     "text": [
      "Shape of dataframe before dropping duplicates: (2841, 14)\n",
      "Shape of dataframe after dropping duplicates: (2836, 14)\n"
     ]
    }
   ],
   "source": [
    "# In this cell, print the shape of sales_df\n",
    "# Drop duplicates in place using drop_duplicates()\n",
    "# Print the new shape of the dataframe\n",
    "# 4 points\n",
    "print(\"Shape of dataframe before dropping duplicates:\", sales_df.shape)\n",
    "sales_df.drop_duplicates(inplace=True)\n",
    "print(\"Shape of dataframe after dropping duplicates:\", sales_df.shape)"
   ]
  },
  {
   "cell_type": "code",
   "execution_count": 8,
   "id": "0d5fc1ba",
   "metadata": {},
   "outputs": [
    {
     "name": "stdout",
     "output_type": "stream",
     "text": [
      "   ORDER_NUMBER  ORDER_DATE  LINE_ITEM_NUMBER  QUANTITY_ORDERED  PRICE_EACH  \\\n",
      "0         10100  2018-01-06                 1           140.000     244.290   \n",
      "1         10100  2018-01-06                 2           134.000     285.490   \n",
      "2         10100  2018-01-06                 3           124.000     308.060   \n",
      "3         10100  2018-01-06                 4           145.000     313.270   \n",
      "4         10101  2018-01-09                 1           109.000     337.600   \n",
      "\n",
      "      SALES   STATUS      PRODUCT_CATEGORY  HAS_MSRP PRODUCT_CODE DEAL_SIZE  \\\n",
      "0 16881.290  Shipped  Fresh Produce Fruits         1     S24_3969     Small   \n",
      "1 22631.610  Shipped  Fresh Produce Fruits         1     S18_2248    Medium   \n",
      "2 25638.610  Shipped  Fresh Produce Fruits         1     S18_1749    Medium   \n",
      "3 28396.380  Shipped  Fresh Produce Fruits         1     S18_4409     Small   \n",
      "4 23357.820  Shipped  Fresh Produce Fruits         1     S18_2795    Medium   \n",
      "\n",
      "  CUSTOMER_NAME  CUSTOMER_ID CUSTOMER_STATUS  \n",
      "0       WALMART        82219          Active  \n",
      "1       WALMART        82219          Active  \n",
      "2       WALMART        82219          Active  \n",
      "3       WALMART        82219          Active  \n",
      "4       WALMART        79760          Active  \n"
     ]
    }
   ],
   "source": [
    "# In this cell, overwrite the current sales_df by sorting the dataset by Order Date and Line Item Number\n",
    "# Reset the index setting the drop argument to True \n",
    "# Show the head of the dataframe\n",
    "# 6 points\n",
    "sales_df = sales_df.sort_values(by=['ORDER_DATE', 'LINE_ITEM_NUMBER'], ignore_index=True)\n",
    "sales_df.reset_index(drop=True, inplace=True)\n",
    "print(sales_df.head())"
   ]
  },
  {
   "cell_type": "code",
   "execution_count": 9,
   "id": "5fb63b81",
   "metadata": {},
   "outputs": [
    {
     "name": "stdout",
     "output_type": "stream",
     "text": [
      "<class 'pandas.core.frame.DataFrame'>\n",
      "RangeIndex: 2836 entries, 0 to 2835\n",
      "Data columns (total 14 columns):\n",
      " #   Column            Non-Null Count  Dtype  \n",
      "---  ------            --------------  -----  \n",
      " 0   ORDER_NUMBER      2836 non-null   int64  \n",
      " 1   ORDER_DATE        2836 non-null   object \n",
      " 2   LINE_ITEM_NUMBER  2836 non-null   int64  \n",
      " 3   QUANTITY_ORDERED  2833 non-null   float64\n",
      " 4   PRICE_EACH        2833 non-null   float64\n",
      " 5   SALES             2833 non-null   float64\n",
      " 6   STATUS            2836 non-null   object \n",
      " 7   PRODUCT_CATEGORY  2833 non-null   object \n",
      " 8   HAS_MSRP          2836 non-null   int64  \n",
      " 9   PRODUCT_CODE      2833 non-null   object \n",
      " 10  DEAL_SIZE         2836 non-null   object \n",
      " 11  CUSTOMER_NAME     2836 non-null   object \n",
      " 12  CUSTOMER_ID       2836 non-null   int64  \n",
      " 13  CUSTOMER_STATUS   2836 non-null   object \n",
      "dtypes: float64(3), int64(4), object(7)\n",
      "memory usage: 310.3+ KB\n",
      "None\n"
     ]
    }
   ],
   "source": [
    "# In this cell, output the data types of sales_df using info()\n",
    "# 1 point\n",
    "print(sales_df.info())"
   ]
  },
  {
   "cell_type": "code",
   "execution_count": 10,
   "id": "5d7370fc",
   "metadata": {},
   "outputs": [
    {
     "name": "stdout",
     "output_type": "stream",
     "text": [
      "       ORDER_NUMBER  LINE_ITEM_NUMBER  QUANTITY_ORDERED  PRICE_EACH     SALES  \\\n",
      "count      2836.000          2836.000          2833.000    2833.000  2833.000   \n",
      "mean      10258.587        348262.580           135.147     638.278 24896.979   \n",
      "std          92.045      18546068.180            17.238   18782.479  4632.037   \n",
      "min       10100.000             1.000            86.000     207.000 12366.600   \n",
      "25%       10180.000             3.000           123.000     262.070 21698.520   \n",
      "50%       10262.000             6.000           135.000     287.440 24733.700   \n",
      "75%       10333.000             9.000           148.000     311.110 28040.970   \n",
      "max       10425.000     987654321.000           218.000  999999.000 43910.080   \n",
      "\n",
      "       HAS_MSRP  CUSTOMER_ID  \n",
      "count  2836.000     2836.000  \n",
      "mean      1.000    68032.389  \n",
      "std       0.000    20686.774  \n",
      "min       1.000    32332.000  \n",
      "25%       1.000    38396.000  \n",
      "50%       1.000    79895.000  \n",
      "75%       1.000    82219.000  \n",
      "max       1.000    87731.000  \n"
     ]
    }
   ],
   "source": [
    "# In this cell, show the output on sales_df of describe()\n",
    "# 1 point\n",
    "print(sales_df.describe())"
   ]
  },
  {
   "cell_type": "markdown",
   "id": "91ef048a",
   "metadata": {},
   "source": [
    "## 02 Additional EDA and Data Cleaning"
   ]
  },
  {
   "cell_type": "code",
   "execution_count": 11,
   "id": "b3fbd169",
   "metadata": {},
   "outputs": [
    {
     "name": "stdout",
     "output_type": "stream",
     "text": [
      "      ORDER_NUMBER  ORDER_DATE  LINE_ITEM_NUMBER  QUANTITY_ORDERED  \\\n",
      "2143         10334  2019-11-19                 4           145.000   \n",
      "\n",
      "      PRICE_EACH     SALES   STATUS PRODUCT_CATEGORY  HAS_MSRP PRODUCT_CODE  \\\n",
      "2143  999999.000 32142.270  Shipped             Pork         1     S18_4600   \n",
      "\n",
      "     DEAL_SIZE CUSTOMER_NAME  CUSTOMER_ID CUSTOMER_STATUS  \n",
      "2143    Medium       WALMART        38396          Active  \n"
     ]
    }
   ],
   "source": [
    "# In this cell, filter the dataframe to the max value for Price Each identified in the output of describe() above\n",
    "# 2 points\n",
    "\n",
    "max_price = sales_df['PRICE_EACH'].max() # Identifying the max value of PRICE EACH\n",
    "max_price_df = sales_df[sales_df['PRICE_EACH'] == max_price] # Filtering the dataframe for the max value of PRICE EACH\n",
    "print(max_price_df)"
   ]
  },
  {
   "cell_type": "code",
   "execution_count": 12,
   "id": "2e3f0806",
   "metadata": {
    "scrolled": true
   },
   "outputs": [
    {
     "name": "stdout",
     "output_type": "stream",
     "text": [
      "      ORDER_NUMBER  ORDER_DATE  LINE_ITEM_NUMBER  QUANTITY_ORDERED  \\\n",
      "14           10103  2018-01-29                 5           114.000   \n",
      "139          10114  2018-04-01                 9           152.000   \n",
      "235          10126  2018-05-28                 5           171.000   \n",
      "337          10140  2018-07-24                 5           157.000   \n",
      "441          10150  2018-09-19                 2           132.000   \n",
      "579          10164  2018-10-21                 3           138.000   \n",
      "705          10175  2018-11-06                10           172.000   \n",
      "782          10183  2018-11-13                 2           122.000   \n",
      "896          10194  2018-11-25                 5           126.000   \n",
      "1005         10207  2018-12-09                16           125.000   \n",
      "1103         10217  2019-02-04                 5           141.000   \n",
      "1214         10229  2019-03-11                10           146.000   \n",
      "1307         10245  2019-05-04                 3           144.000   \n",
      "1420         10259  2019-06-15                13           119.000   \n",
      "1491         10270  2019-07-19                 3           118.000   \n",
      "1613         10281  2019-08-19                10           147.000   \n",
      "1718         10291  2019-09-08                 5           165.000   \n",
      "1816         10305  2019-10-13                14           131.000   \n",
      "1926         10313  2019-10-22                 8           148.000   \n",
      "2027         10323  2019-11-05                 1           127.000   \n",
      "2143         10334  2019-11-19                 4           145.000   \n",
      "2236         10347  2019-11-29                 4           168.000   \n",
      "2315         10357  2019-12-10                 2           133.000   \n",
      "2413         10370  2020-01-20                 6           109.000   \n",
      "2514         10382  2020-02-17                 1           139.000   \n",
      "2718         10411  2020-05-01                 3           141.000   \n",
      "2835         10425  2020-05-31                13           135.000   \n",
      "\n",
      "      PRICE_EACH     SALES   STATUS PRODUCT_CATEGORY  HAS_MSRP PRODUCT_CODE  \\\n",
      "14       344.530 25293.930  Shipped             Pork         1     S18_4600   \n",
      "139      344.530 33799.620  Shipped             Pork         1     S18_4600   \n",
      "235      344.530 37935.900  Shipped             Pork         1     S18_4600   \n",
      "337      344.530 34924.320  Shipped             Pork         1     S18_4600   \n",
      "441      344.530 29337.690  Shipped             Pork         1     S18_4600   \n",
      "579      344.530 30556.760  Shipped             Pork         1     S18_4600   \n",
      "705      344.530 38123.910  Shipped             Pork         1     S18_4600   \n",
      "782      344.530 27021.130  Shipped             Pork         1     S18_4600   \n",
      "896      344.530 27924.600  Shipped             Pork         1     S18_4600   \n",
      "1005     344.530 27822.250  Shipped             Pork         1     S18_4600   \n",
      "1103     344.530 31301.160  Shipped             Pork         1     S18_4600   \n",
      "1214     344.530 32346.660  Shipped             Pork         1     S18_4600   \n",
      "1307     344.530 31877.410  Shipped             Pork         1     S18_4600   \n",
      "1420     344.530 26485.880  Shipped             Pork         1     S18_4600   \n",
      "1491     344.530 26242.270  Shipped             Pork         1     S18_4600   \n",
      "1613     344.530 32660.770  Shipped             Pork         1     S18_4600   \n",
      "1718     344.530 36690.810  Shipped             Pork         1     S18_4600   \n",
      "1816     344.530 29023.980  Shipped             Pork         1     S18_4600   \n",
      "1926     344.530 32874.850  Shipped             Pork         1     S18_4600   \n",
      "2027     344.530 28117.790  Shipped             Pork         1     S18_4600   \n",
      "2143  999999.000 32142.270  Shipped             Pork         1     S18_4600   \n",
      "2236     344.530 37383.610  Shipped             Pork         1     S18_4600   \n",
      "2315     344.530 29587.680  Shipped             Pork         1     S18_4600   \n",
      "2413     344.530 24122.500  Shipped             Pork         1     S18_4600   \n",
      "2514     344.530 30810.040  Shipped             Pork         1     S18_4600   \n",
      "2718     344.530 31324.240  Shipped             Pork         1     S18_4600   \n",
      "2835     344.530 29903.790  Shipped             Pork         1     S18_4600   \n",
      "\n",
      "     DEAL_SIZE CUSTOMER_NAME  CUSTOMER_ID CUSTOMER_STATUS  \n",
      "14      Medium       WALMART        82219          Active  \n",
      "139     Medium       WALMART        83649          Active  \n",
      "235      Large       WALMART        82219          Active  \n",
      "337     Medium       WALMART        82219          Active  \n",
      "441     Medium        COSTCO        34221          Active  \n",
      "579     Medium       WALMART        37108          Active  \n",
      "705     Medium       WALMART        82230          Active  \n",
      "782      Small       WALMART        35419          Active  \n",
      "896     Medium        COSTCO        42267          Active  \n",
      "1005    Medium       WALMART        35908          Active  \n",
      "1103    Medium        COSTCO        77058          Active  \n",
      "1214    Medium        COSTCO        84519          Active  \n",
      "1307     Small       WALMART        35908          Active  \n",
      "1420    Medium        COSTCO        77058          Active  \n",
      "1491    Medium        COSTCO        85736          Active  \n",
      "1613     Small       WALMART        80949          Active  \n",
      "1718    Medium        COSTCO        32588          Active  \n",
      "1816     Small       WALMART        82230          Active  \n",
      "1926     Small       WALMART        79760          Active  \n",
      "2027    Medium       WALMART        79760          Active  \n",
      "2143    Medium       WALMART        38396          Active  \n",
      "2236    Medium        COSTCO        87731          Active  \n",
      "2315    Medium        COSTCO        84519          Active  \n",
      "2413     Small        COSTCO        39736          Active  \n",
      "2514    Medium        COSTCO        84519          Active  \n",
      "2718    Medium       WALMART        79760          Active  \n",
      "2835    Medium        COSTCO        76451          Active  \n"
     ]
    }
   ],
   "source": [
    "# In this cell, filter the dataframe to find the correct Price Each for Product Code S18_4600 which should match the row above\n",
    "# 1 point\n",
    "\n",
    "product_df = sales_df[sales_df['PRODUCT_CODE'] == 'S18_4600']\n",
    "print(product_df)"
   ]
  },
  {
   "cell_type": "code",
   "execution_count": 13,
   "id": "b0177798",
   "metadata": {},
   "outputs": [
    {
     "name": "stdout",
     "output_type": "stream",
     "text": [
      "      ORDER_NUMBER  ORDER_DATE  LINE_ITEM_NUMBER  QUANTITY_ORDERED  \\\n",
      "2143         10334  2019-11-19                 4           145.000   \n",
      "\n",
      "      PRICE_EACH     SALES   STATUS PRODUCT_CATEGORY  HAS_MSRP PRODUCT_CODE  \\\n",
      "2143     344.530 32142.270  Shipped             Pork         1     S18_4600   \n",
      "\n",
      "     DEAL_SIZE CUSTOMER_NAME  CUSTOMER_ID CUSTOMER_STATUS  \n",
      "2143    Medium       WALMART        38396          Active  \n"
     ]
    }
   ],
   "source": [
    "# In this cell, again filter the dataframe using the Order Number and Line Item Number corresponding \n",
    "#  to the max value for Price Each identified in the output of describe() above \n",
    "#  and replace the erroneous Price Each value to the correct value\n",
    "# 3 points\n",
    "\n",
    "order_num = max_price_df['ORDER_NUMBER'].iloc[0]\n",
    "line_item = max_price_df['LINE_ITEM_NUMBER'].iloc[0]\n",
    "\n",
    "sales_df.loc[(sales_df['ORDER_NUMBER'] == order_num) & (sales_df['LINE_ITEM_NUMBER'] == line_item), 'PRICE_EACH'] = product_df['PRICE_EACH'].iloc[0]\n",
    "\n",
    "print(sales_df.loc[(sales_df['ORDER_NUMBER'] == order_num) & (sales_df['LINE_ITEM_NUMBER'] == line_item)])"
   ]
  },
  {
   "cell_type": "code",
   "execution_count": 14,
   "id": "e13bac93",
   "metadata": {},
   "outputs": [
    {
     "name": "stdout",
     "output_type": "stream",
     "text": [
      "      ORDER_NUMBER  ORDER_DATE  LINE_ITEM_NUMBER  QUANTITY_ORDERED  \\\n",
      "1644         10283  2019-08-20         987654321           119.000   \n",
      "\n",
      "      PRICE_EACH     SALES   STATUS PRODUCT_CATEGORY  HAS_MSRP PRODUCT_CODE  \\\n",
      "1644     253.180 20398.390  Shipped            Dairy         1     S18_3029   \n",
      "\n",
      "     DEAL_SIZE CUSTOMER_NAME  CUSTOMER_ID CUSTOMER_STATUS  \n",
      "1644     Small       WALMART        79895          Active  \n"
     ]
    }
   ],
   "source": [
    "# In this cell, filter the dataframe to the max value for Line Item Number identified in the output of describe() above\n",
    "# 1 point\n",
    "max_line_item = sales_df['LINE_ITEM_NUMBER'].max() # Identifying the max value of LINE ITEM\n",
    "max_line_item_df = sales_df[sales_df['LINE_ITEM_NUMBER'] == max_line_item] # Filtering the dataframe for the max value of LINE ITEM\n",
    "print(max_line_item_df)"
   ]
  },
  {
   "cell_type": "code",
   "execution_count": 15,
   "id": "a654e8e2",
   "metadata": {},
   "outputs": [
    {
     "name": "stdout",
     "output_type": "stream",
     "text": [
      "    ORDER_NUMBER  ORDER_DATE  LINE_ITEM_NUMBER  QUANTITY_ORDERED  PRICE_EACH  \\\n",
      "0          10283  2019-08-20                 1           161.000     278.680   \n",
      "1          10283  2019-08-20                 2           106.000     261.460   \n",
      "2          10283  2019-08-20                 3           155.000     301.530   \n",
      "3          10283  2019-08-20                 5           126.000     318.650   \n",
      "4          10283  2019-08-20                 6           112.000     310.790   \n",
      "5          10283  2019-08-20                 7           156.000     251.110   \n",
      "6          10283  2019-08-20                 8           155.000     299.080   \n",
      "7          10283  2019-08-20                 9           168.000     247.130   \n",
      "8          10283  2019-08-20                10           142.000     262.690   \n",
      "9          10283  2019-08-20                11           160.000     292.050   \n",
      "10         10283  2019-08-20                12           123.000     240.650   \n",
      "11         10283  2019-08-20                13           125.000     339.280   \n",
      "12         10283  2019-08-20                14           132.000     258.060   \n",
      "13         10283  2019-08-20         987654321           119.000     253.180   \n",
      "\n",
      "       SALES   STATUS          PRODUCT_CATEGORY  HAS_MSRP PRODUCT_CODE  \\\n",
      "0  26192.010  Shipped                      Beef         1     S72_1253   \n",
      "1  18274.440  Shipped                     Dairy         1    S700_2047   \n",
      "2  29755.460  Shipped      Fresh Produce Fruits         1     S18_3856   \n",
      "3  25129.330  Shipped      Fresh Produce Fruits         1     S24_3816   \n",
      "4  23959.480  Shipped  Fresh Produce Vegetables         1     S10_4757   \n",
      "5  25871.090  Shipped                     Dairy         1    S700_2610   \n",
      "6  31195.410  Shipped      Fresh Produce Fruits         1     S24_3151   \n",
      "7  24649.830  Shipped                     Dairy         1    S700_1138   \n",
      "8  25414.650  Shipped                     Dairy         1    S700_3505   \n",
      "9  33403.700  Shipped                     Dairy         1    S700_3962   \n",
      "10 17408.030  Shipped                     Dairy         1     S72_3212   \n",
      "11 27578.130  Shipped                     Dairy         1     S24_2011   \n",
      "12 23084.640  Shipped      Fresh Produce Fruits         1     S18_4522   \n",
      "13 20398.390  Shipped                     Dairy         1     S18_3029   \n",
      "\n",
      "   DEAL_SIZE CUSTOMER_NAME  CUSTOMER_ID CUSTOMER_STATUS  \n",
      "0      Small       WALMART        79895          Active  \n",
      "1      Small       WALMART        79895          Active  \n",
      "2     Medium       WALMART        79895          Active  \n",
      "3      Small       WALMART        79895          Active  \n",
      "4      Small       WALMART        79895          Active  \n",
      "5     Medium       WALMART        79895          Active  \n",
      "6     Medium       WALMART        79895          Active  \n",
      "7     Medium       WALMART        79895          Active  \n",
      "8      Small       WALMART        79895          Active  \n",
      "9     Medium       WALMART        79895          Active  \n",
      "10     Small       WALMART        79895          Active  \n",
      "11    Medium       WALMART        79895          Active  \n",
      "12    Medium       WALMART        79895          Active  \n",
      "13     Small       WALMART        79895          Active  \n"
     ]
    }
   ],
   "source": [
    "# In this cell, filter the dataframe to the Order Number identified in the output above\n",
    "# Sort values by Line Item Number\n",
    "# Show the head of the first 30 rows\n",
    "# 3 points\n",
    "\n",
    "order_num = max_line_item_df['ORDER_NUMBER'].iloc[0]\n",
    "order_df = sales_df[sales_df['ORDER_NUMBER'] == order_num] # Filtering the dataframe for rows with ORDER NUMBER equal to the max value of LINE ITEM\n",
    "order_df = order_df.sort_values(by='LINE_ITEM_NUMBER').reset_index(drop=True) # Sorting the filtered dataframe by LINE ITEM\n",
    "\n",
    "print(order_df.head(30))"
   ]
  },
  {
   "cell_type": "code",
   "execution_count": 18,
   "id": "b76b8340",
   "metadata": {},
   "outputs": [
    {
     "name": "stderr",
     "output_type": "stream",
     "text": [
      "C:\\Users\\hemil\\AppData\\Local\\Temp\\ipykernel_33656\\2819615994.py:13: SettingWithCopyWarning: \n",
      "A value is trying to be set on a copy of a slice from a DataFrame\n",
      "\n",
      "See the caveats in the documentation: https://pandas.pydata.org/pandas-docs/stable/user_guide/indexing.html#returning-a-view-versus-a-copy\n",
      "  df_order.sort_values('LINE_ITEM_NUMBER', inplace=True)\n"
     ]
    },
    {
     "data": {
      "text/html": [
       "<div>\n",
       "<style scoped>\n",
       "    .dataframe tbody tr th:only-of-type {\n",
       "        vertical-align: middle;\n",
       "    }\n",
       "\n",
       "    .dataframe tbody tr th {\n",
       "        vertical-align: top;\n",
       "    }\n",
       "\n",
       "    .dataframe thead th {\n",
       "        text-align: right;\n",
       "    }\n",
       "</style>\n",
       "<table border=\"1\" class=\"dataframe\">\n",
       "  <thead>\n",
       "    <tr style=\"text-align: right;\">\n",
       "      <th></th>\n",
       "      <th>ORDER_NUMBER</th>\n",
       "      <th>ORDER_DATE</th>\n",
       "      <th>LINE_ITEM_NUMBER</th>\n",
       "      <th>QUANTITY_ORDERED</th>\n",
       "      <th>PRICE_EACH</th>\n",
       "      <th>SALES</th>\n",
       "      <th>STATUS</th>\n",
       "      <th>PRODUCT_CATEGORY</th>\n",
       "      <th>HAS_MSRP</th>\n",
       "      <th>PRODUCT_CODE</th>\n",
       "      <th>DEAL_SIZE</th>\n",
       "      <th>CUSTOMER_NAME</th>\n",
       "      <th>CUSTOMER_ID</th>\n",
       "      <th>CUSTOMER_STATUS</th>\n",
       "    </tr>\n",
       "  </thead>\n",
       "  <tbody>\n",
       "    <tr>\n",
       "      <th>72</th>\n",
       "      <td>10107</td>\n",
       "      <td>2018-02-24</td>\n",
       "      <td>1</td>\n",
       "      <td>121.000</td>\n",
       "      <td>319.490</td>\n",
       "      <td>26558.400</td>\n",
       "      <td>Shipped</td>\n",
       "      <td>Poultry</td>\n",
       "      <td>1</td>\n",
       "      <td>S12_2823</td>\n",
       "      <td>Medium</td>\n",
       "      <td>COSTCO</td>\n",
       "      <td>81313</td>\n",
       "      <td>Active</td>\n",
       "    </tr>\n",
       "    <tr>\n",
       "      <th>73</th>\n",
       "      <td>10107</td>\n",
       "      <td>2018-02-24</td>\n",
       "      <td>2</td>\n",
       "      <td>108.000</td>\n",
       "      <td>300.240</td>\n",
       "      <td>22947.880</td>\n",
       "      <td>Shipped</td>\n",
       "      <td>Poultry</td>\n",
       "      <td>1</td>\n",
       "      <td>S10_1678</td>\n",
       "      <td>Small</td>\n",
       "      <td>COSTCO</td>\n",
       "      <td>81313</td>\n",
       "      <td>Active</td>\n",
       "    </tr>\n",
       "    <tr>\n",
       "      <th>74</th>\n",
       "      <td>10107</td>\n",
       "      <td>2018-02-24</td>\n",
       "      <td>3</td>\n",
       "      <td>138.000</td>\n",
       "      <td>332.680</td>\n",
       "      <td>30604.460</td>\n",
       "      <td>Shipped</td>\n",
       "      <td>Poultry</td>\n",
       "      <td>1</td>\n",
       "      <td>S24_1578</td>\n",
       "      <td>Small</td>\n",
       "      <td>COSTCO</td>\n",
       "      <td>81313</td>\n",
       "      <td>Active</td>\n",
       "    </tr>\n",
       "    <tr>\n",
       "      <th>75</th>\n",
       "      <td>10107</td>\n",
       "      <td>2018-02-24</td>\n",
       "      <td>4</td>\n",
       "      <td>117.000</td>\n",
       "      <td>311.000</td>\n",
       "      <td>23934.160</td>\n",
       "      <td>Shipped</td>\n",
       "      <td>Poultry</td>\n",
       "      <td>1</td>\n",
       "      <td>S10_4698</td>\n",
       "      <td>Medium</td>\n",
       "      <td>COSTCO</td>\n",
       "      <td>81313</td>\n",
       "      <td>Active</td>\n",
       "    </tr>\n",
       "    <tr>\n",
       "      <th>76</th>\n",
       "      <td>10107</td>\n",
       "      <td>2018-02-24</td>\n",
       "      <td>5</td>\n",
       "      <td>120.000</td>\n",
       "      <td>286.120</td>\n",
       "      <td>22067.150</td>\n",
       "      <td>Shipped</td>\n",
       "      <td>Poultry</td>\n",
       "      <td>1</td>\n",
       "      <td>S10_2016</td>\n",
       "      <td>Medium</td>\n",
       "      <td>COSTCO</td>\n",
       "      <td>81313</td>\n",
       "      <td>Active</td>\n",
       "    </tr>\n",
       "    <tr>\n",
       "      <th>77</th>\n",
       "      <td>10107</td>\n",
       "      <td>2018-02-24</td>\n",
       "      <td>6</td>\n",
       "      <td>147.000</td>\n",
       "      <td>259.060</td>\n",
       "      <td>22951.650</td>\n",
       "      <td>Shipped</td>\n",
       "      <td>Poultry</td>\n",
       "      <td>1</td>\n",
       "      <td>S18_2625</td>\n",
       "      <td>Small</td>\n",
       "      <td>COSTCO</td>\n",
       "      <td>81313</td>\n",
       "      <td>Active</td>\n",
       "    </tr>\n",
       "    <tr>\n",
       "      <th>78</th>\n",
       "      <td>10107</td>\n",
       "      <td>2018-02-24</td>\n",
       "      <td>7</td>\n",
       "      <td>155.000</td>\n",
       "      <td>318.900</td>\n",
       "      <td>31103.700</td>\n",
       "      <td>Shipped</td>\n",
       "      <td>Poultry</td>\n",
       "      <td>1</td>\n",
       "      <td>S24_2000</td>\n",
       "      <td>Medium</td>\n",
       "      <td>COSTCO</td>\n",
       "      <td>81313</td>\n",
       "      <td>Active</td>\n",
       "    </tr>\n",
       "    <tr>\n",
       "      <th>79</th>\n",
       "      <td>10107</td>\n",
       "      <td>2018-02-24</td>\n",
       "      <td>8</td>\n",
       "      <td>99.000</td>\n",
       "      <td>267.170</td>\n",
       "      <td>18066.830</td>\n",
       "      <td>Shipped</td>\n",
       "      <td>Poultry</td>\n",
       "      <td>1</td>\n",
       "      <td>S32_1374</td>\n",
       "      <td>Small</td>\n",
       "      <td>COSTCO</td>\n",
       "      <td>81313</td>\n",
       "      <td>Active</td>\n",
       "    </tr>\n",
       "  </tbody>\n",
       "</table>\n",
       "</div>"
      ],
      "text/plain": [
       "    ORDER_NUMBER  ORDER_DATE  LINE_ITEM_NUMBER  QUANTITY_ORDERED  PRICE_EACH  \\\n",
       "72         10107  2018-02-24                 1           121.000     319.490   \n",
       "73         10107  2018-02-24                 2           108.000     300.240   \n",
       "74         10107  2018-02-24                 3           138.000     332.680   \n",
       "75         10107  2018-02-24                 4           117.000     311.000   \n",
       "76         10107  2018-02-24                 5           120.000     286.120   \n",
       "77         10107  2018-02-24                 6           147.000     259.060   \n",
       "78         10107  2018-02-24                 7           155.000     318.900   \n",
       "79         10107  2018-02-24                 8            99.000     267.170   \n",
       "\n",
       "       SALES   STATUS PRODUCT_CATEGORY  HAS_MSRP PRODUCT_CODE DEAL_SIZE  \\\n",
       "72 26558.400  Shipped          Poultry         1     S12_2823    Medium   \n",
       "73 22947.880  Shipped          Poultry         1     S10_1678     Small   \n",
       "74 30604.460  Shipped          Poultry         1     S24_1578     Small   \n",
       "75 23934.160  Shipped          Poultry         1     S10_4698    Medium   \n",
       "76 22067.150  Shipped          Poultry         1     S10_2016    Medium   \n",
       "77 22951.650  Shipped          Poultry         1     S18_2625     Small   \n",
       "78 31103.700  Shipped          Poultry         1     S24_2000    Medium   \n",
       "79 18066.830  Shipped          Poultry         1     S32_1374     Small   \n",
       "\n",
       "   CUSTOMER_NAME  CUSTOMER_ID CUSTOMER_STATUS  \n",
       "72        COSTCO        81313          Active  \n",
       "73        COSTCO        81313          Active  \n",
       "74        COSTCO        81313          Active  \n",
       "75        COSTCO        81313          Active  \n",
       "76        COSTCO        81313          Active  \n",
       "77        COSTCO        81313          Active  \n",
       "78        COSTCO        81313          Active  \n",
       "79        COSTCO        81313          Active  "
      ]
     },
     "execution_count": 18,
     "metadata": {},
     "output_type": "execute_result"
    }
   ],
   "source": [
    "# In this cell:\n",
    "#  Filter the dataframe to the Order Number identified in the output above and where the Line Item Number is equal to 987654321\n",
    "# 3 points\n",
    "\n",
    "order_num = 10107\n",
    "line_item_num = 987654321\n",
    "df_order_line = sales_df[(sales_df['ORDER_NUMBER'] == order_num) & (sales_df['LINE_ITEM_NUMBER'] == line_item_num)]\n",
    "\n",
    "# Filter the dataframe to the Order Number identified in the ouput above to confirm the value of 987654321 is now 15\n",
    "# 1 point\n",
    "\n",
    "df_order = sales_df[sales_df['ORDER_NUMBER'] == order_num]\n",
    "df_order.sort_values('LINE_ITEM_NUMBER', inplace=True)\n",
    "df_order.head(30)\n"
   ]
  },
  {
   "cell_type": "code",
   "execution_count": 19,
   "id": "d1806062",
   "metadata": {},
   "outputs": [
    {
     "data": {
      "text/plain": [
       "ORDER_NUMBER        0\n",
       "ORDER_DATE          0\n",
       "LINE_ITEM_NUMBER    0\n",
       "QUANTITY_ORDERED    3\n",
       "PRICE_EACH          3\n",
       "SALES               3\n",
       "STATUS              0\n",
       "PRODUCT_CATEGORY    3\n",
       "HAS_MSRP            0\n",
       "PRODUCT_CODE        3\n",
       "DEAL_SIZE           0\n",
       "CUSTOMER_NAME       0\n",
       "CUSTOMER_ID         0\n",
       "CUSTOMER_STATUS     0\n",
       "dtype: int64"
      ]
     },
     "execution_count": 19,
     "metadata": {},
     "output_type": "execute_result"
    }
   ],
   "source": [
    "# In this cell, check for missing values using isnull() and sum()\n",
    "# 1 points\n",
    "sales_df.isnull().sum()\n"
   ]
  },
  {
   "cell_type": "code",
   "execution_count": 20,
   "id": "2b48e7fa",
   "metadata": {},
   "outputs": [
    {
     "data": {
      "text/plain": [
       "ORDER_NUMBER        0\n",
       "ORDER_DATE          0\n",
       "LINE_ITEM_NUMBER    0\n",
       "QUANTITY_ORDERED    0\n",
       "PRICE_EACH          0\n",
       "SALES               0\n",
       "STATUS              0\n",
       "PRODUCT_CATEGORY    0\n",
       "HAS_MSRP            0\n",
       "PRODUCT_CODE        0\n",
       "DEAL_SIZE           0\n",
       "CUSTOMER_NAME       0\n",
       "CUSTOMER_ID         0\n",
       "CUSTOMER_STATUS     0\n",
       "dtype: int64"
      ]
     },
     "execution_count": 20,
     "metadata": {},
     "output_type": "execute_result"
    }
   ],
   "source": [
    "# In this cell, drop all rows with missing values using dropna()\n",
    "# Set the axis to 0\n",
    "# Overwrite sales_df using inplace=True\n",
    "# Again, check for missing values using isnull() and sum() to confirm your changes\n",
    "# 2 points\n",
    "sales_df.dropna(axis=0, inplace=True)\n",
    "sales_df.isnull().sum()\n"
   ]
  },
  {
   "cell_type": "code",
   "execution_count": 23,
   "id": "57ee8657",
   "metadata": {},
   "outputs": [
    {
     "data": {
      "text/plain": [
       "<AxesSubplot:xlabel='SALES'>"
      ]
     },
     "execution_count": 23,
     "metadata": {},
     "output_type": "execute_result"
    },
    {
     "data": {
      "image/png": "[encoded data removed]",
      "text/plain": [
       "<Figure size 640x480 with 1 Axes>"
      ]
     },
     "metadata": {},
     "output_type": "display_data"
    }
   ],
   "source": [
    "# In this cell, create a box plot with Seaborn for the Sales column in sales_df\n",
    "# 1 point\n",
    "\n",
    "sns.boxplot(x=sales_df['SALES'])\n"
   ]
  },
  {
   "cell_type": "code",
   "execution_count": 24,
   "id": "712c0d10",
   "metadata": {},
   "outputs": [
    {
     "name": "stdout",
     "output_type": "stream",
     "text": [
      "Upper bound: 37554.645000000004\n",
      "Lower bound: 12184.845\n"
     ]
    }
   ],
   "source": [
    "# In this cell, detect outliers on Sales using the Inter Quartile Range\n",
    "# Create a variable called Q1 that is the result of using np.percentile on the Sales column using the 25th (25) percentile \n",
    "#    and set the interpolation to 'midpoint'\n",
    "# Create a variable called Q3 that is the result of using np.percentile on the Sales column using the 75th (75) percentile \n",
    "#    and set the interpolation to 'midpoint'\n",
    "# Create a variable called IQR with is equal to Q3 minus Q1\n",
    "# Create a variable called upper_bound that is equal to Q3 + (1.5 * IQR)\n",
    "# Create a variable called lower_bound that is equal to Q1 - (1.5 * IQR)\n",
    "# Print the upper and lower bounds\n",
    "# 10 points\n",
    "\n",
    "Q1 = sales_df['SALES'].quantile(q=0.25, interpolation='midpoint')\n",
    "Q3 = sales_df['SALES'].quantile(q=0.75, interpolation='midpoint')\n",
    "IQR = Q3 - Q1\n",
    "upper_bound = Q3 + (1.5 * IQR)\n",
    "lower_bound = Q1 - (1.5 * IQR)\n",
    "\n",
    "print(f\"Upper bound: {upper_bound}\")\n",
    "print(f\"Lower bound: {lower_bound}\")\n"
   ]
  },
  {
   "cell_type": "code",
   "execution_count": 26,
   "id": "a1e8bea6",
   "metadata": {},
   "outputs": [
    {
     "name": "stdout",
     "output_type": "stream",
     "text": [
      "Upper Bound: 37554.65\n",
      "Lower Bound: 12184.84\n",
      "New shape of the dataframe: (2823, 14)\n"
     ]
    },
    {
     "data": {
      "image/png": "[encoded data removed]",
      "text/plain": [
       "<Figure size 640x480 with 1 Axes>"
      ]
     },
     "metadata": {},
     "output_type": "display_data"
    }
   ],
   "source": [
    "# In this cell, drop rows with outliers on Sales\n",
    "# Create a new dataframe called sales_df2 that is a copy of sales_df where the Sales column is below the upper_bound \n",
    "#   and the Sales column is above the lower_bound\n",
    "# Print the shape of sales_df2\n",
    "# Create a box plot with Seaborn for the Sales column in sales_df2\n",
    "# 5 points\n",
    "\n",
    "# Drop rows with outliers on Sales\n",
    "Q1 = sales_df['SALES'].quantile(q=0.25, interpolation='midpoint')\n",
    "Q3 = sales_df['SALES'].quantile(q=0.75, interpolation='midpoint')\n",
    "IQR = Q3 - Q1\n",
    "upper_bound = Q3 + (1.5 * IQR)\n",
    "lower_bound = Q1 - (1.5 * IQR)\n",
    "print(f\"Upper Bound: {upper_bound:.2f}\")\n",
    "print(f\"Lower Bound: {lower_bound:.2f}\")\n",
    "\n",
    "# Create a new dataframe without the outliers\n",
    "sales_df2 = sales_df[(sales_df['SALES'] <= upper_bound) & (sales_df['SALES'] >= lower_bound)].copy()\n",
    "\n",
    "# Print the shape of the new dataframe\n",
    "print(f\"New shape of the dataframe: {sales_df2.shape}\")\n",
    "\n",
    "# Create a box plot for the Sales column in the new dataframe\n",
    "sns.boxplot(x=sales_df2['SALES'])\n",
    "plt.show()"
   ]
  },
  {
   "cell_type": "markdown",
   "id": "eedfcc3c",
   "metadata": {},
   "source": [
    "**NOTE:** Now that you have a new, cleaned dataframe called sales_df2, you will use sales_df2 going forward."
   ]
  },
  {
   "cell_type": "code",
   "execution_count": 51,
   "id": "cac2354e",
   "metadata": {},
   "outputs": [
    {
     "data": {
      "text/plain": [
       "[]"
      ]
     },
     "execution_count": 51,
     "metadata": {},
     "output_type": "execute_result"
    }
   ],
   "source": [
    "# In this cell, execute the get_single_value_cols function to determine if any columns have one single value on sales_df2\n",
    "# 1 points\n",
    "def get_single_value_cols(df):\n",
    "    '''Returns list of columns that contain only one value'''\n",
    "    \n",
    "    single_val_cols = []\n",
    "    for col in df.columns:\n",
    "        if len(df[col].unique()) == 1:\n",
    "            single_val_cols.append(col)\n",
    "            \n",
    "    return single_val_cols\n",
    "\n",
    "\n",
    "get_single_value_cols(sales_df2)"
   ]
  },
  {
   "cell_type": "code",
   "execution_count": 52,
   "id": "ec83931c",
   "metadata": {},
   "outputs": [
    {
     "name": "stdout",
     "output_type": "stream",
     "text": [
      "Shape before dropping single value columns: (2823, 19)\n",
      "Shape after dropping single value columns: (2823, 19)\n",
      "   ORDER_NUMBER ORDER_DATE  LINE_ITEM_NUMBER  QUANTITY_ORDERED  PRICE_EACH  \\\n",
      "0         10100 2018-01-06                 1           140.000     244.290   \n",
      "1         10100 2018-01-06                 2           134.000     285.490   \n",
      "2         10100 2018-01-06                 3           124.000     308.060   \n",
      "\n",
      "      SALES      PRODUCT_CATEGORY PRODUCT_CODE DEAL_SIZE CUSTOMER_NAME  \\\n",
      "0 16881.290  Fresh Produce Fruits      24_3969     Small       Walmart   \n",
      "1 22631.610  Fresh Produce Fruits      18_2248    Medium       Walmart   \n",
      "2 25638.610  Fresh Produce Fruits      18_1749    Medium       Walmart   \n",
      "\n",
      "   CUSTOMER_ID   CUSTOMER_ADDRESS  CUSTOMER_POSTAL_CODE CUSTOMER_CITY  \\\n",
      "0        82219  9408 Furth Circle                 77001       Houston   \n",
      "1        82219  9408 Furth Circle                 77001       Houston   \n",
      "2        82219  9408 Furth Circle                 77001       Houston   \n",
      "\n",
      "  CUSTOMER_STATE  CONTACT_NAME CONTACT_PHONE  ORDER_MONTH  ORDER_YEAR  \n",
      "0             TX  Hirano, Juri  +13302580017            1        2018  \n",
      "1             TX  Hirano, Juri  +13302580017            1        2018  \n",
      "2             TX  Hirano, Juri  +13302580017            1        2018  \n"
     ]
    }
   ],
   "source": [
    "# In this cell, drop columns identified in the output of get_single_value_cols in place using drop() \n",
    "# Set in place to True \n",
    "# Print the dataframe shape BEFORE AND AFTER dropping single value cols\n",
    "# Show the first 3 rows of the dataframe\n",
    "# 5 points\n",
    "\n",
    "# drop single value columns\n",
    "single_value_cols = get_single_value_cols(sales_customer_df)\n",
    "sales_customer_df.drop(single_value_cols, axis=1, inplace=True)\n",
    "\n",
    "# print shape before and after dropping single value columns\n",
    "print(\"Shape before dropping single value columns:\", sales_customer_df.shape)\n",
    "sales_customer_df.drop(single_value_cols, axis=1, inplace=True)\n",
    "print(\"Shape after dropping single value columns:\", sales_customer_df.shape)\n",
    "\n",
    "# show first 3 rows of the dataframe\n",
    "print(sales_customer_df.head(3))"
   ]
  },
  {
   "cell_type": "code",
   "execution_count": 53,
   "id": "36eeb4c8",
   "metadata": {},
   "outputs": [],
   "source": [
    "# In this cell, use str and title to overwrite Customer Name to titlecase\n",
    "# 2 points\n",
    "sales_df2['CUSTOMER_NAME'] = sales_df2['CUSTOMER_NAME'].str.title()\n"
   ]
  },
  {
   "cell_type": "code",
   "execution_count": 54,
   "id": "719ac95d",
   "metadata": {},
   "outputs": [
    {
     "name": "stdout",
     "output_type": "stream",
     "text": [
      "18_3232     52\n",
      "18_1097     28\n",
      "24_1444     28\n",
      "10_1949     28\n",
      "18_4668     28\n",
      "12_1666     28\n",
      "18_3320     28\n",
      "10_4962     28\n",
      "18_2432     28\n",
      "50_1392     28\n",
      "24_2840     28\n",
      "18_1129     28\n",
      "32_2509     28\n",
      "24_3856     27\n",
      "700_4002    27\n",
      "18_3136     27\n",
      "24_3420     27\n",
      "72_1253     27\n",
      "700_2047    27\n",
      "18_2238     27\n",
      "12_4473     27\n",
      "18_2957     27\n",
      "24_3371     27\n",
      "18_2949     27\n",
      "32_3522     27\n",
      "700_2824    27\n",
      "18_3029     27\n",
      "32_1268     27\n",
      "700_1138    27\n",
      "700_3505    27\n",
      "50_1341     27\n",
      "18_1984     27\n",
      "18_2625     27\n",
      "24_2972     27\n",
      "24_3949     27\n",
      "700_2466    26\n",
      "700_1691    26\n",
      "12_3380     26\n",
      "24_3816     26\n",
      "18_1662     26\n",
      "24_2841     26\n",
      "12_1108     26\n",
      "12_2823     26\n",
      "18_1889     26\n",
      "24_1578     26\n",
      "10_4698     26\n",
      "10_2016     26\n",
      "18_3856     26\n",
      "24_2000     26\n",
      "18_2319     26\n",
      "24_4258     26\n",
      "18_4027     26\n",
      "32_3207     26\n",
      "24_4048     26\n",
      "10_4757     26\n",
      "700_2610    26\n",
      "24_2300     26\n",
      "24_3151     26\n",
      "700_3962    26\n",
      "72_3212     26\n",
      "24_2011     26\n",
      "18_1342     26\n",
      "18_1367     26\n",
      "18_4522     26\n",
      "18_2795     26\n",
      "50_1514     26\n",
      "18_2870     25\n",
      "32_4485     25\n",
      "18_3685     25\n",
      "50_4713     25\n",
      "24_2360     25\n",
      "32_2206     25\n",
      "12_4675     25\n",
      "12_1099     25\n",
      "12_3990     25\n",
      "18_3482     25\n",
      "18_4721     25\n",
      "18_3782     25\n",
      "700_2834    25\n",
      "18_1589     25\n",
      "12_3148     25\n",
      "700_1938    25\n",
      "700_3167    25\n",
      "24_2022     25\n",
      "24_1937     25\n",
      "18_2325     25\n",
      "18_4600     25\n",
      "10_1678     25\n",
      "18_3140     25\n",
      "12_3891     25\n",
      "18_3259     25\n",
      "24_1628     24\n",
      "32_1374     24\n",
      "18_3278     24\n",
      "24_4278     24\n",
      "32_4289     24\n",
      "24_4620     23\n",
      "18_2581     23\n",
      "24_1785     23\n",
      "24_3191     23\n",
      "24_1046     23\n",
      "24_3432     23\n",
      "18_2248     22\n",
      "18_4409     22\n",
      "18_4933     22\n",
      "24_2887     22\n",
      "24_2766     22\n",
      "24_3969     22\n",
      "18_1749     20\n",
      "Name: PRODUCT_CODE, dtype: int64\n"
     ]
    }
   ],
   "source": [
    "# In this cell, use str and replace to overwrite Product Code replacing the \"S\" with nothing/empty string\n",
    "# Run value counts on Product Code\n",
    "# 3 points\n",
    "\n",
    "sales_df2['PRODUCT_CODE'] = sales_df2['PRODUCT_CODE'].str.replace('S', '')\n",
    "print(sales_df2['PRODUCT_CODE'].value_counts())\n"
   ]
  },
  {
   "cell_type": "markdown",
   "id": "0500a6e1",
   "metadata": {},
   "source": [
    "<hr>"
   ]
  },
  {
   "cell_type": "markdown",
   "id": "7f3e5c53",
   "metadata": {},
   "source": [
    "# Working with the Customer Info Data"
   ]
  },
  {
   "cell_type": "markdown",
   "id": "4ba73a8c",
   "metadata": {},
   "source": [
    "## 01 Data Ingestion, Initial EDA and Cleaning"
   ]
  },
  {
   "cell_type": "code",
   "execution_count": 55,
   "id": "307ae055",
   "metadata": {},
   "outputs": [
    {
     "name": "stdout",
     "output_type": "stream",
     "text": [
      "Shape of customer_df: (45, 8)\n",
      "   CUSTOMER_ID               CUSTOMER_ADDRESS  CUSTOMER_POSTAL_CODE  \\\n",
      "0        81313        897 Long Airport Avenue                 73301   \n",
      "1        36763             59 rue de l'Abbaye                 30033   \n",
      "2        35419  27 rue du Colonel Pierre Avia                 33480   \n",
      "\n",
      "  CUSTOMER_CITY CUSTOMER_STATE CUSTOMER_COUNTRY      CONTACT_NAME  \\\n",
      "0        Austin             TX              USA          Yu, Kwai   \n",
      "1       Atlanta             GA              USA     Henriot, Paul   \n",
      "2    Palm Beach             FL              USA  Da Cunha, Daniel   \n",
      "\n",
      "  CONTACT_PHONE  \n",
      "0  +10740359934  \n",
      "1  759-472-0266  \n",
      "2  +17238100489  \n"
     ]
    }
   ],
   "source": [
    "# In this cell, complete the following:\n",
    "#   Read the csv Customer_Info.csv creating a dataframe called \"customer_df\"\n",
    "#   Use str and upper() to convert the column headers to uppercase\n",
    "#   Print the shape of the dataframe\n",
    "#   Show the first 3 rows of the dataframe\n",
    "# 4 points\n",
    "\n",
    "# Read csv file into a dataframe called \"customer_df\"\n",
    "customer_df = pd.read_csv('Customer_Info.csv')\n",
    "\n",
    "# Convert column headers to uppercase using str and upper()\n",
    "customer_df.columns = customer_df.columns.str.upper()\n",
    "\n",
    "# Print the shape of the dataframe\n",
    "print(\"Shape of customer_df:\", customer_df.shape)\n",
    "\n",
    "# Show the first 3 rows of the dataframe\n",
    "print(customer_df.head(3))\n"
   ]
  },
  {
   "cell_type": "code",
   "execution_count": 56,
   "id": "dc49f7ab",
   "metadata": {},
   "outputs": [
    {
     "name": "stdout",
     "output_type": "stream",
     "text": [
      "True\n"
     ]
    }
   ],
   "source": [
    "# In this cell, run duplicated() and any() to determine if the dataframe (customer_df) has any duplicates\n",
    "# 1 point\n",
    "print(customer_df.duplicated().any())\n"
   ]
  },
  {
   "cell_type": "code",
   "execution_count": 57,
   "id": "b2410250",
   "metadata": {},
   "outputs": [
    {
     "name": "stdout",
     "output_type": "stream",
     "text": [
      "Number of duplicates in customer_df: 3\n"
     ]
    }
   ],
   "source": [
    "# In this cell, run duplicated() and sum() to report the number of duplicates in customer_df\n",
    "# 1 point\n",
    "\n",
    "duplicates = customer_df.duplicated().sum()\n",
    "print(\"Number of duplicates in customer_df:\", duplicates)"
   ]
  },
  {
   "cell_type": "code",
   "execution_count": 58,
   "id": "9a31e7d1",
   "metadata": {},
   "outputs": [
    {
     "name": "stdout",
     "output_type": "stream",
     "text": [
      "Original shape of customer_df: (45, 8)\n",
      "New shape of customer_df: (42, 8)\n"
     ]
    }
   ],
   "source": [
    "# In this cell, print the shape of customer_df\n",
    "# Drop duplicates in place using drop_duplicates()\n",
    "# Print the new shape of the dataframe\n",
    "# 4 points\n",
    "\n",
    "# Print original shape of customer_df\n",
    "print(\"Original shape of customer_df:\", customer_df.shape)\n",
    "\n",
    "# Drop duplicates in place\n",
    "customer_df.drop_duplicates(inplace=True)\n",
    "\n",
    "# Print new shape of customer_df\n",
    "print(\"New shape of customer_df:\", customer_df.shape)\n"
   ]
  },
  {
   "cell_type": "code",
   "execution_count": 59,
   "id": "83eb3a43",
   "metadata": {},
   "outputs": [
    {
     "name": "stdout",
     "output_type": "stream",
     "text": [
      "<class 'pandas.core.frame.DataFrame'>\n",
      "Int64Index: 42 entries, 0 to 41\n",
      "Data columns (total 8 columns):\n",
      " #   Column                Non-Null Count  Dtype \n",
      "---  ------                --------------  ----- \n",
      " 0   CUSTOMER_ID           42 non-null     int64 \n",
      " 1   CUSTOMER_ADDRESS      42 non-null     object\n",
      " 2   CUSTOMER_POSTAL_CODE  42 non-null     int64 \n",
      " 3   CUSTOMER_CITY         42 non-null     object\n",
      " 4   CUSTOMER_STATE        42 non-null     object\n",
      " 5   CUSTOMER_COUNTRY      42 non-null     object\n",
      " 6   CONTACT_NAME          42 non-null     object\n",
      " 7   CONTACT_PHONE         42 non-null     object\n",
      "dtypes: int64(2), object(6)\n",
      "memory usage: 3.0+ KB\n"
     ]
    }
   ],
   "source": [
    "# In this cell, output the data types of customer_df using info()\n",
    "# 1 point\n",
    "\n",
    "customer_df.info()"
   ]
  },
  {
   "cell_type": "markdown",
   "id": "5fc1bca8",
   "metadata": {},
   "source": [
    "## 02 Additional EDA and Data Cleaning"
   ]
  },
  {
   "cell_type": "code",
   "execution_count": 60,
   "id": "02a71593",
   "metadata": {},
   "outputs": [
    {
     "name": "stdout",
     "output_type": "stream",
     "text": [
      "CUSTOMER_ID             0\n",
      "CUSTOMER_ADDRESS        0\n",
      "CUSTOMER_POSTAL_CODE    0\n",
      "CUSTOMER_CITY           0\n",
      "CUSTOMER_STATE          0\n",
      "CUSTOMER_COUNTRY        0\n",
      "CONTACT_NAME            0\n",
      "CONTACT_PHONE           0\n",
      "dtype: int64\n"
     ]
    }
   ],
   "source": [
    "# In this cell, check for missing values using isnull() and sum() in customer_df\n",
    "# 1 point\n",
    "\n",
    "print(customer_df.isnull().sum())"
   ]
  },
  {
   "cell_type": "markdown",
   "id": "a47e8fa1",
   "metadata": {},
   "source": [
    "## 04 Additional Data Work"
   ]
  },
  {
   "cell_type": "code",
   "execution_count": 61,
   "id": "59af46e7",
   "metadata": {},
   "outputs": [
    {
     "name": "stdout",
     "output_type": "stream",
     "text": [
      "Shape of sales_df2:  (2823, 11)\n",
      "Shape of sales_customer_df:  (2823, 18)\n"
     ]
    },
    {
     "data": {
      "text/html": [
       "<div>\n",
       "<style scoped>\n",
       "    .dataframe tbody tr th:only-of-type {\n",
       "        vertical-align: middle;\n",
       "    }\n",
       "\n",
       "    .dataframe tbody tr th {\n",
       "        vertical-align: top;\n",
       "    }\n",
       "\n",
       "    .dataframe thead th {\n",
       "        text-align: right;\n",
       "    }\n",
       "</style>\n",
       "<table border=\"1\" class=\"dataframe\">\n",
       "  <thead>\n",
       "    <tr style=\"text-align: right;\">\n",
       "      <th></th>\n",
       "      <th>ORDER_NUMBER</th>\n",
       "      <th>ORDER_DATE</th>\n",
       "      <th>LINE_ITEM_NUMBER</th>\n",
       "      <th>QUANTITY_ORDERED</th>\n",
       "      <th>PRICE_EACH</th>\n",
       "      <th>SALES</th>\n",
       "      <th>PRODUCT_CATEGORY</th>\n",
       "      <th>PRODUCT_CODE</th>\n",
       "      <th>DEAL_SIZE</th>\n",
       "      <th>CUSTOMER_NAME</th>\n",
       "      <th>CUSTOMER_ID</th>\n",
       "      <th>CUSTOMER_ADDRESS</th>\n",
       "      <th>CUSTOMER_POSTAL_CODE</th>\n",
       "      <th>CUSTOMER_CITY</th>\n",
       "      <th>CUSTOMER_STATE</th>\n",
       "      <th>CUSTOMER_COUNTRY</th>\n",
       "      <th>CONTACT_NAME</th>\n",
       "      <th>CONTACT_PHONE</th>\n",
       "    </tr>\n",
       "  </thead>\n",
       "  <tbody>\n",
       "    <tr>\n",
       "      <th>0</th>\n",
       "      <td>10100</td>\n",
       "      <td>2018-01-06</td>\n",
       "      <td>1</td>\n",
       "      <td>140.000</td>\n",
       "      <td>244.290</td>\n",
       "      <td>16881.290</td>\n",
       "      <td>Fresh Produce Fruits</td>\n",
       "      <td>24_3969</td>\n",
       "      <td>Small</td>\n",
       "      <td>Walmart</td>\n",
       "      <td>82219</td>\n",
       "      <td>9408 Furth Circle</td>\n",
       "      <td>77001</td>\n",
       "      <td>Houston</td>\n",
       "      <td>TX</td>\n",
       "      <td>USA</td>\n",
       "      <td>Hirano, Juri</td>\n",
       "      <td>+13302580017</td>\n",
       "    </tr>\n",
       "    <tr>\n",
       "      <th>1</th>\n",
       "      <td>10100</td>\n",
       "      <td>2018-01-06</td>\n",
       "      <td>2</td>\n",
       "      <td>134.000</td>\n",
       "      <td>285.490</td>\n",
       "      <td>22631.610</td>\n",
       "      <td>Fresh Produce Fruits</td>\n",
       "      <td>18_2248</td>\n",
       "      <td>Medium</td>\n",
       "      <td>Walmart</td>\n",
       "      <td>82219</td>\n",
       "      <td>9408 Furth Circle</td>\n",
       "      <td>77001</td>\n",
       "      <td>Houston</td>\n",
       "      <td>TX</td>\n",
       "      <td>USA</td>\n",
       "      <td>Hirano, Juri</td>\n",
       "      <td>+13302580017</td>\n",
       "    </tr>\n",
       "    <tr>\n",
       "      <th>2</th>\n",
       "      <td>10100</td>\n",
       "      <td>2018-01-06</td>\n",
       "      <td>3</td>\n",
       "      <td>124.000</td>\n",
       "      <td>308.060</td>\n",
       "      <td>25638.610</td>\n",
       "      <td>Fresh Produce Fruits</td>\n",
       "      <td>18_1749</td>\n",
       "      <td>Medium</td>\n",
       "      <td>Walmart</td>\n",
       "      <td>82219</td>\n",
       "      <td>9408 Furth Circle</td>\n",
       "      <td>77001</td>\n",
       "      <td>Houston</td>\n",
       "      <td>TX</td>\n",
       "      <td>USA</td>\n",
       "      <td>Hirano, Juri</td>\n",
       "      <td>+13302580017</td>\n",
       "    </tr>\n",
       "    <tr>\n",
       "      <th>3</th>\n",
       "      <td>10100</td>\n",
       "      <td>2018-01-06</td>\n",
       "      <td>4</td>\n",
       "      <td>145.000</td>\n",
       "      <td>313.270</td>\n",
       "      <td>28396.380</td>\n",
       "      <td>Fresh Produce Fruits</td>\n",
       "      <td>18_4409</td>\n",
       "      <td>Small</td>\n",
       "      <td>Walmart</td>\n",
       "      <td>82219</td>\n",
       "      <td>9408 Furth Circle</td>\n",
       "      <td>77001</td>\n",
       "      <td>Houston</td>\n",
       "      <td>TX</td>\n",
       "      <td>USA</td>\n",
       "      <td>Hirano, Juri</td>\n",
       "      <td>+13302580017</td>\n",
       "    </tr>\n",
       "    <tr>\n",
       "      <th>4</th>\n",
       "      <td>10101</td>\n",
       "      <td>2018-01-09</td>\n",
       "      <td>1</td>\n",
       "      <td>109.000</td>\n",
       "      <td>337.600</td>\n",
       "      <td>23357.820</td>\n",
       "      <td>Fresh Produce Fruits</td>\n",
       "      <td>18_2795</td>\n",
       "      <td>Medium</td>\n",
       "      <td>Walmart</td>\n",
       "      <td>79760</td>\n",
       "      <td>1900 Oak St.</td>\n",
       "      <td>77550</td>\n",
       "      <td>Galveston</td>\n",
       "      <td>TX</td>\n",
       "      <td>USA</td>\n",
       "      <td>Tannamuri, Yoshi</td>\n",
       "      <td>(920)-506-7419</td>\n",
       "    </tr>\n",
       "  </tbody>\n",
       "</table>\n",
       "</div>"
      ],
      "text/plain": [
       "   ORDER_NUMBER  ORDER_DATE  LINE_ITEM_NUMBER  QUANTITY_ORDERED  PRICE_EACH  \\\n",
       "0         10100  2018-01-06                 1           140.000     244.290   \n",
       "1         10100  2018-01-06                 2           134.000     285.490   \n",
       "2         10100  2018-01-06                 3           124.000     308.060   \n",
       "3         10100  2018-01-06                 4           145.000     313.270   \n",
       "4         10101  2018-01-09                 1           109.000     337.600   \n",
       "\n",
       "      SALES      PRODUCT_CATEGORY PRODUCT_CODE DEAL_SIZE CUSTOMER_NAME  \\\n",
       "0 16881.290  Fresh Produce Fruits      24_3969     Small       Walmart   \n",
       "1 22631.610  Fresh Produce Fruits      18_2248    Medium       Walmart   \n",
       "2 25638.610  Fresh Produce Fruits      18_1749    Medium       Walmart   \n",
       "3 28396.380  Fresh Produce Fruits      18_4409     Small       Walmart   \n",
       "4 23357.820  Fresh Produce Fruits      18_2795    Medium       Walmart   \n",
       "\n",
       "   CUSTOMER_ID   CUSTOMER_ADDRESS  CUSTOMER_POSTAL_CODE CUSTOMER_CITY  \\\n",
       "0        82219  9408 Furth Circle                 77001       Houston   \n",
       "1        82219  9408 Furth Circle                 77001       Houston   \n",
       "2        82219  9408 Furth Circle                 77001       Houston   \n",
       "3        82219  9408 Furth Circle                 77001       Houston   \n",
       "4        79760       1900 Oak St.                 77550     Galveston   \n",
       "\n",
       "  CUSTOMER_STATE CUSTOMER_COUNTRY      CONTACT_NAME   CONTACT_PHONE  \n",
       "0             TX              USA      Hirano, Juri    +13302580017  \n",
       "1             TX              USA      Hirano, Juri    +13302580017  \n",
       "2             TX              USA      Hirano, Juri    +13302580017  \n",
       "3             TX              USA      Hirano, Juri    +13302580017  \n",
       "4             TX              USA  Tannamuri, Yoshi  (920)-506-7419  "
      ]
     },
     "execution_count": 61,
     "metadata": {},
     "output_type": "execute_result"
    }
   ],
   "source": [
    "# In this cell, merge sales_df2 and customer_df\n",
    "# The left dataframe will be sales_df2 and the right dataframe will be customer_df\n",
    "# Create a new dataframe as the result from the merge called sales_customer_df\n",
    "# Use merge() with a \"left\" join on the key of customer ID\n",
    "# Print the shape of sales_df2 and sales_customer_df after the merge\n",
    "# Print the head of sales_customer_df\n",
    "# 7 points\n",
    "\n",
    "# Merge sales_df2 and customer_df on the key of customer ID\n",
    "sales_customer_df = sales_df2.merge(customer_df, how='left', on='CUSTOMER_ID')\n",
    "\n",
    "# Print the shape of sales_df2 and sales_customer_df after the merge\n",
    "print(\"Shape of sales_df2: \", sales_df2.shape)\n",
    "print(\"Shape of sales_customer_df: \", sales_customer_df.shape)\n",
    "\n",
    "# Print the head of sales_customer_df\n",
    "sales_customer_df.head()"
   ]
  },
  {
   "cell_type": "code",
   "execution_count": 62,
   "id": "f9124379",
   "metadata": {},
   "outputs": [
    {
     "name": "stdout",
     "output_type": "stream",
     "text": [
      "   ORDER_NUMBER ORDER_DATE  LINE_ITEM_NUMBER  QUANTITY_ORDERED  PRICE_EACH  \\\n",
      "0         10100 2018-01-06                 1           140.000     244.290   \n",
      "1         10100 2018-01-06                 2           134.000     285.490   \n",
      "2         10100 2018-01-06                 3           124.000     308.060   \n",
      "\n",
      "      SALES      PRODUCT_CATEGORY PRODUCT_CODE DEAL_SIZE CUSTOMER_NAME  \\\n",
      "0 16881.290  Fresh Produce Fruits      24_3969     Small       Walmart   \n",
      "1 22631.610  Fresh Produce Fruits      18_2248    Medium       Walmart   \n",
      "2 25638.610  Fresh Produce Fruits      18_1749    Medium       Walmart   \n",
      "\n",
      "   CUSTOMER_ID   CUSTOMER_ADDRESS  CUSTOMER_POSTAL_CODE CUSTOMER_CITY  \\\n",
      "0        82219  9408 Furth Circle                 77001       Houston   \n",
      "1        82219  9408 Furth Circle                 77001       Houston   \n",
      "2        82219  9408 Furth Circle                 77001       Houston   \n",
      "\n",
      "  CUSTOMER_STATE CUSTOMER_COUNTRY  CONTACT_NAME CONTACT_PHONE  ORDER_MONTH  \\\n",
      "0             TX              USA  Hirano, Juri  +13302580017            1   \n",
      "1             TX              USA  Hirano, Juri  +13302580017            1   \n",
      "2             TX              USA  Hirano, Juri  +13302580017            1   \n",
      "\n",
      "   ORDER_YEAR  \n",
      "0        2018  \n",
      "1        2018  \n",
      "2        2018  \n"
     ]
    }
   ],
   "source": [
    "# In this cell, extract the month and day from Order Date, creating a new column for each in sales_customer_df\n",
    "# Use dt Create a month column called ORDER_MONTH using dt.month\n",
    "# Create a year column called ORDER_YEAR using dt.year\n",
    "# Print the first 3 rows of sales_customer_df\n",
    "# 5 points\n",
    "\n",
    "sales_customer_df['ORDER_DATE'] = pd.to_datetime(sales_customer_df['ORDER_DATE'])\n",
    "sales_customer_df['ORDER_MONTH'] = sales_customer_df['ORDER_DATE'].dt.month\n",
    "sales_customer_df['ORDER_YEAR'] = sales_customer_df['ORDER_DATE'].dt.year\n",
    "print(sales_customer_df.head(3))"
   ]
  },
  {
   "cell_type": "code",
   "execution_count": 63,
   "id": "8fcbe0bc",
   "metadata": {},
   "outputs": [
    {
     "name": "stdout",
     "output_type": "stream",
     "text": [
      "           PRODUCT_CATEGORY        SALES\n",
      "0                      Beef  7407332.680\n",
      "1                     Bread  1711599.050\n",
      "2                     Dairy  5560481.190\n",
      "3      Fresh Produce Fruits 14764481.500\n",
      "4  Fresh Produce Vegetables 24341475.560\n",
      "5                      Pork  7946242.800\n",
      "6                   Poultry  8407582.600\n"
     ]
    }
   ],
   "source": [
    "# In this cell, you will create a dataframe of the total sales by product category\n",
    "# Create a new dataframe called \"product_sales\"\n",
    "# Groupby PRODUCT CATEGORY\n",
    "# Set as_index to False\n",
    "# Aggregate by SALES taking the sum\n",
    "# Print the dataframe product_sales\n",
    "# 6 points\n",
    "\n",
    "product_sales = sales_customer_df.groupby('PRODUCT_CATEGORY', as_index=False)['SALES'].sum()\n",
    "print(product_sales)"
   ]
  },
  {
   "cell_type": "code",
   "execution_count": 64,
   "id": "ef02531d",
   "metadata": {},
   "outputs": [
    {
     "data": {
      "image/png": "[encoded data removed]",
      "text/plain": [
       "<Figure size 1200x600 with 1 Axes>"
      ]
     },
     "metadata": {},
     "output_type": "display_data"
    }
   ],
   "source": [
    "# In this cell, visualize the data created above\n",
    "# Using seaborn, create a barplot\n",
    "# Set x to PRODUCT CATEGORY\n",
    "# Set y to SALES\n",
    "# Title the graph \"Total Sales by Product Category\"\n",
    "# Set xticks to a rotation of 80\n",
    "# Set the ylabel to \"Sales US Dollars\"\n",
    "# 7 points\n",
    "\n",
    "sns.set_style(\"whitegrid\")\n",
    "plt.figure(figsize=(12, 6))\n",
    "sns.barplot(x=\"PRODUCT_CATEGORY\", y=\"SALES\", data=product_sales)\n",
    "plt.title(\"Total Sales by Product Category\")\n",
    "plt.xticks(rotation=80)\n",
    "plt.ylabel(\"Sales US Dollars\")\n",
    "plt.show()"
   ]
  }
 ],
 "metadata": {
  "kernelspec": {
   "display_name": "Python 3 (ipykernel)",
   "language": "python",
   "name": "python3"
  },
  "language_info": {
   "codemirror_mode": {
    "name": "ipython",
    "version": 3
   },
   "file_extension": ".py",
   "mimetype": "text/x-python",
   "name": "python",
   "nbconvert_exporter": "python",
   "pygments_lexer": "ipython3",
   "version": "3.9.13"
  }
 },
 "nbformat": 4,
 "nbformat_minor": 5
}

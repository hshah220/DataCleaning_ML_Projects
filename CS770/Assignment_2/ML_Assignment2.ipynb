{
 "cells": [
  {
   "cell_type": "code",
   "execution_count": 78,
   "id": "0e8bbb4f",
   "metadata": {},
   "outputs": [],
   "source": [
    "#iphone.csv is the name of the file that is saved in the same directory as this code\n",
    "df = pd.read_csv(\"iphone.csv\")"
   ]
  },
  {
   "cell_type": "code",
   "execution_count": 79,
   "id": "fab33524",
   "metadata": {},
   "outputs": [
    {
     "data": {
      "text/plain": [
       "(400, 4)"
      ]
     },
     "execution_count": 79,
     "metadata": {},
     "output_type": "execute_result"
    }
   ],
   "source": [
    "#shape of the data set\n",
    "df.shape"
   ]
  },
  {
   "cell_type": "code",
   "execution_count": 80,
   "id": "709a0597",
   "metadata": {},
   "outputs": [],
   "source": [
    "#assigning values to the variables\n",
    "age_salary = df.iloc[:,1:-1].values\n",
    "iphone_purchase = df.iloc[:, 3].values"
   ]
  },
  {
   "cell_type": "code",
   "execution_count": 81,
   "id": "b18f2552",
   "metadata": {},
   "outputs": [],
   "source": [
    "#training the model\n",
    "from sklearn.model_selection import train_test_split as test\n",
    "as_train, as_test, ip_train, ip_test = test(age_salary, iphone_purchase, test_size = 0.25, random_state=1)"
   ]
  },
  {
   "cell_type": "code",
   "execution_count": 82,
   "id": "dbc1cfed",
   "metadata": {},
   "outputs": [
    {
     "name": "stdout",
     "output_type": "stream",
     "text": [
      "[0 0 1 1 1 0 0 1 0 1 0 0 0 1 1 1 1 0 0 1 0 1 1 1 1 0 1 1 1 1 0 0 0 1 0 0 0\n",
      " 0 1 0 1 1 1 0 1 1 1 1 0 1 0 0 0 1 0 0 1 0 1 1 0 0 1 0 1 1 0 0 1 0 1 0 1 0\n",
      " 0 1 0 0 0 0 0 1 1 0 0 0 1 0 1 0 1 1 1 0 0 1 1 0 0 0]\n"
     ]
    }
   ],
   "source": [
    "from sklearn.svm import SVC\n",
    "from sklearn.pipeline import Pipeline\n",
    "svm = Pipeline([\n",
    "(\"scale\", StandardScaler()),\n",
    "(\"svm_clf\", SVC(kernel=\"poly\", degree=3, coef0=1, C=10))\n",
    "])\n",
    "svm.fit(as_train, ip_train)\n",
    "ip_predict = svm.predict(as_test)\n",
    "print(ip_predict)"
   ]
  },
  {
   "cell_type": "code",
   "execution_count": 83,
   "id": "eabdc54e",
   "metadata": {},
   "outputs": [
    {
     "name": "stdout",
     "output_type": "stream",
     "text": [
      "Accuracy score:  88%\n"
     ]
    }
   ],
   "source": [
    "#printing the accuracy score of the matrix\n",
    "from sklearn import metrics\n",
    "accuracy = metrics.accuracy_score(ip_test, ip_predict)\n",
    "accuracy = \"{:.0%}\".format(accuracy)\n",
    "print('Accuracy score: ', accuracy)"
   ]
  },
  {
   "cell_type": "code",
   "execution_count": 84,
   "id": "c94dd1d2",
   "metadata": {},
   "outputs": [],
   "source": [
    "#ROC Curve\n",
    "from sklearn import metrics\n",
    "from sklearn.metrics import roc_curve\n",
    "fpr, tpr, thresholds = roc_curve(ip_test, ip_predict)"
   ]
  },
  {
   "cell_type": "code",
   "execution_count": 86,
   "id": "fd6049ca",
   "metadata": {},
   "outputs": [
    {
     "data": {
      "image/png": "[encoded data removed]",
      "text/plain": [
       "<Figure size 432x288 with 1 Axes>"
      ]
     },
     "metadata": {
      "needs_background": "light"
     },
     "output_type": "display_data"
    }
   ],
   "source": [
    "#Plot\n",
    "import matplotlib.pyplot as plot\n",
    "plot.plot(fpr, tpr, linewidth=2)\n",
    "plot.plot([0.0, 1.0], [0.0, 1.0]) \n",
    "plot.show()"
   ]
  },
  {
   "cell_type": "code",
   "execution_count": null,
   "id": "a92ec84b",
   "metadata": {},
   "outputs": [],
   "source": []
  }
 ],
 "metadata": {
  "kernelspec": {
   "display_name": "Python 3 (ipykernel)",
   "language": "python",
   "name": "python3"
  },
  "language_info": {
   "codemirror_mode": {
    "name": "ipython",
    "version": 3
   },
   "file_extension": ".py",
   "mimetype": "text/x-python",
   "name": "python",
   "nbconvert_exporter": "python",
   "pygments_lexer": "ipython3",
   "version": "3.9.12"
  }
 },
 "nbformat": 4,
 "nbformat_minor": 5
}

{
 "cells": [
  {
   "cell_type": "markdown",
   "id": "81f17745",
   "metadata": {},
   "source": [
    "# Assignment 01"
   ]
  },
  {
   "cell_type": "markdown",
   "id": "8eaf7a5c",
   "metadata": {},
   "source": [
    "### Imports and Setup"
   ]
  },
  {
   "cell_type": "code",
   "execution_count": 197,
   "id": "d4c0be5c",
   "metadata": {},
   "outputs": [],
   "source": [
    "import pandas as pd\n",
    "import seaborn as sns\n",
    "import matplotlib.pyplot as plt\n",
    "\n",
    "pd.options.display.max_columns = 100\n",
    "pd.options.display.max_rows = 25"
   ]
  },
  {
   "cell_type": "markdown",
   "id": "c23d96d5",
   "metadata": {},
   "source": [
    "## 01 Data Ingestion and Getting to Know Your Data"
   ]
  },
  {
   "cell_type": "code",
   "execution_count": 198,
   "id": "d9a6ce71",
   "metadata": {},
   "outputs": [
    {
     "name": "stdout",
     "output_type": "stream",
     "text": [
      "   Order_Number  Order_Date  Line_Item_Number  Quantity_Ordered_lbs  \\\n",
      "0         12139  2018-02-24                 2                   109   \n",
      "1         11398  2018-05-07                 5                   128   \n",
      "2         14215  2018-07-01                 2                   129   \n",
      "3         12172  2018-08-25                 6                   165   \n",
      "4         12563  2018-10-10                14                   157   \n",
      "\n",
      "   Price_Each     Sales   Status Product_Category  MSRP  Product_Code  \\\n",
      "0      210.94  22889.76  Shipped          Poultry     1         10120   \n",
      "1      172.22  22101.37  Shipped          Poultry     1         10120   \n",
      "2      203.46  26314.01  Shipped          Poultry     1         10120   \n",
      "3      159.87  26449.19  Shipped          Poultry     1         10120   \n",
      "4      201.44  31677.10  Shipped          Poultry     1         10120   \n",
      "\n",
      "  Customer_Name Customer_City Customer_State Deal_Size Customer_Status  \\\n",
      "0        COSTCO        Austin             TX     Small          Active   \n",
      "1        COSTCO       Atlanta             GA     Small          Active   \n",
      "2       WALMART    Palm Beach             FL    Medium          Active   \n",
      "3       WALMART   San Antonio             TX    Medium          Active   \n",
      "4        COSTCO    Cape Coral             FL    Medium          Active   \n",
      "\n",
      "  Order Date  \n",
      "0 2018-02-24  \n",
      "1 2018-05-07  \n",
      "2 2018-07-01  \n",
      "3 2018-08-25  \n",
      "4 2018-10-10  \n"
     ]
    }
   ],
   "source": [
    "# In this cell, complete the following:\n",
    "# Read the zipped csv assignment01_sales_data_modified.zip creating a dataframe called \"df\"\n",
    "# While reading the data, parse any date columns and specify column names using the col_names list provided below\n",
    "# Use the compression argument to uncompress the data\n",
    "# 6 points\n",
    "# Note: For reading zipped csv files, read the documentation on read_csv()\n",
    "# Note: You may need to use additional arguments to properly set the column names\n",
    "\n",
    "# Use the header names in the list below\n",
    "col_names = ['Order_Number','Order_Date','Line_Item_Number','Quantity_Ordered_lbs','Price_Each','Sales',\n",
    "             'Status','Product_Category','MSRP','Product_Code','Customer_Name','Customer_City','Customer_State',\n",
    "             'Deal_Size','Customer_Status']\n",
    "\n",
    "df = pd.read_csv('assignment01_sales_data_modified.zip', compression = 'zip')\n",
    "df.columns = col_names\n",
    "df['Order Date'] = pd.to_datetime(df['Order_Date'])\n",
    "print(df.head())"
   ]
  },
  {
   "cell_type": "code",
   "execution_count": 199,
   "id": "97efe04c",
   "metadata": {},
   "outputs": [
    {
     "name": "stdout",
     "output_type": "stream",
     "text": [
      "(2846, 16)\n"
     ]
    }
   ],
   "source": [
    "# In this cell, print the shape of the dataframe\n",
    "# 1 point\n",
    "print(df.shape)"
   ]
  },
  {
   "cell_type": "code",
   "execution_count": 200,
   "id": "cf3bedd7",
   "metadata": {},
   "outputs": [
    {
     "data": {
      "text/html": [
       "<div>\n",
       "<style scoped>\n",
       "    .dataframe tbody tr th:only-of-type {\n",
       "        vertical-align: middle;\n",
       "    }\n",
       "\n",
       "    .dataframe tbody tr th {\n",
       "        vertical-align: top;\n",
       "    }\n",
       "\n",
       "    .dataframe thead th {\n",
       "        text-align: right;\n",
       "    }\n",
       "</style>\n",
       "<table border=\"1\" class=\"dataframe\">\n",
       "  <thead>\n",
       "    <tr style=\"text-align: right;\">\n",
       "      <th></th>\n",
       "      <th>Order_Number</th>\n",
       "      <th>Order_Date</th>\n",
       "      <th>Line_Item_Number</th>\n",
       "      <th>Quantity_Ordered_lbs</th>\n",
       "      <th>Price_Each</th>\n",
       "      <th>Sales</th>\n",
       "      <th>Status</th>\n",
       "      <th>Product_Category</th>\n",
       "      <th>MSRP</th>\n",
       "      <th>Product_Code</th>\n",
       "      <th>Customer_Name</th>\n",
       "      <th>Customer_City</th>\n",
       "      <th>Customer_State</th>\n",
       "      <th>Deal_Size</th>\n",
       "      <th>Customer_Status</th>\n",
       "      <th>Order Date</th>\n",
       "    </tr>\n",
       "  </thead>\n",
       "  <tbody>\n",
       "    <tr>\n",
       "      <th>0</th>\n",
       "      <td>12139</td>\n",
       "      <td>2018-02-24</td>\n",
       "      <td>2</td>\n",
       "      <td>109</td>\n",
       "      <td>210.94</td>\n",
       "      <td>22889.76</td>\n",
       "      <td>Shipped</td>\n",
       "      <td>Poultry</td>\n",
       "      <td>1</td>\n",
       "      <td>10120</td>\n",
       "      <td>COSTCO</td>\n",
       "      <td>Austin</td>\n",
       "      <td>TX</td>\n",
       "      <td>Small</td>\n",
       "      <td>Active</td>\n",
       "      <td>2018-02-24</td>\n",
       "    </tr>\n",
       "    <tr>\n",
       "      <th>1</th>\n",
       "      <td>11398</td>\n",
       "      <td>2018-05-07</td>\n",
       "      <td>5</td>\n",
       "      <td>128</td>\n",
       "      <td>172.22</td>\n",
       "      <td>22101.37</td>\n",
       "      <td>Shipped</td>\n",
       "      <td>Poultry</td>\n",
       "      <td>1</td>\n",
       "      <td>10120</td>\n",
       "      <td>COSTCO</td>\n",
       "      <td>Atlanta</td>\n",
       "      <td>GA</td>\n",
       "      <td>Small</td>\n",
       "      <td>Active</td>\n",
       "      <td>2018-05-07</td>\n",
       "    </tr>\n",
       "    <tr>\n",
       "      <th>2</th>\n",
       "      <td>14215</td>\n",
       "      <td>2018-07-01</td>\n",
       "      <td>2</td>\n",
       "      <td>129</td>\n",
       "      <td>203.46</td>\n",
       "      <td>26314.01</td>\n",
       "      <td>Shipped</td>\n",
       "      <td>Poultry</td>\n",
       "      <td>1</td>\n",
       "      <td>10120</td>\n",
       "      <td>WALMART</td>\n",
       "      <td>Palm Beach</td>\n",
       "      <td>FL</td>\n",
       "      <td>Medium</td>\n",
       "      <td>Active</td>\n",
       "      <td>2018-07-01</td>\n",
       "    </tr>\n",
       "  </tbody>\n",
       "</table>\n",
       "</div>"
      ],
      "text/plain": [
       "   Order_Number  Order_Date  Line_Item_Number  Quantity_Ordered_lbs  \\\n",
       "0         12139  2018-02-24                 2                   109   \n",
       "1         11398  2018-05-07                 5                   128   \n",
       "2         14215  2018-07-01                 2                   129   \n",
       "\n",
       "   Price_Each     Sales   Status Product_Category  MSRP  Product_Code  \\\n",
       "0      210.94  22889.76  Shipped          Poultry     1         10120   \n",
       "1      172.22  22101.37  Shipped          Poultry     1         10120   \n",
       "2      203.46  26314.01  Shipped          Poultry     1         10120   \n",
       "\n",
       "  Customer_Name Customer_City Customer_State Deal_Size Customer_Status  \\\n",
       "0        COSTCO        Austin             TX     Small          Active   \n",
       "1        COSTCO       Atlanta             GA     Small          Active   \n",
       "2       WALMART    Palm Beach             FL    Medium          Active   \n",
       "\n",
       "  Order Date  \n",
       "0 2018-02-24  \n",
       "1 2018-05-07  \n",
       "2 2018-07-01  "
      ]
     },
     "execution_count": 200,
     "metadata": {},
     "output_type": "execute_result"
    }
   ],
   "source": [
    "# In this cell, show the first 3 rows of the dataframe\n",
    "# 1 point\n",
    "df.head(3)"
   ]
  },
  {
   "cell_type": "code",
   "execution_count": 201,
   "id": "b094d4fb",
   "metadata": {},
   "outputs": [
    {
     "data": {
      "text/html": [
       "<div>\n",
       "<style scoped>\n",
       "    .dataframe tbody tr th:only-of-type {\n",
       "        vertical-align: middle;\n",
       "    }\n",
       "\n",
       "    .dataframe tbody tr th {\n",
       "        vertical-align: top;\n",
       "    }\n",
       "\n",
       "    .dataframe thead th {\n",
       "        text-align: right;\n",
       "    }\n",
       "</style>\n",
       "<table border=\"1\" class=\"dataframe\">\n",
       "  <thead>\n",
       "    <tr style=\"text-align: right;\">\n",
       "      <th></th>\n",
       "      <th>Order_Number</th>\n",
       "      <th>Order_Date</th>\n",
       "      <th>Line_Item_Number</th>\n",
       "      <th>Quantity_Ordered_lbs</th>\n",
       "      <th>Price_Each</th>\n",
       "      <th>Sales</th>\n",
       "      <th>Status</th>\n",
       "      <th>Product_Category</th>\n",
       "      <th>MSRP</th>\n",
       "      <th>Product_Code</th>\n",
       "      <th>Customer_Name</th>\n",
       "      <th>Customer_City</th>\n",
       "      <th>Customer_State</th>\n",
       "      <th>Deal_Size</th>\n",
       "      <th>Customer_Status</th>\n",
       "      <th>Order Date</th>\n",
       "    </tr>\n",
       "  </thead>\n",
       "  <tbody>\n",
       "    <tr>\n",
       "      <th>2843</th>\n",
       "      <td>11835</td>\n",
       "      <td>2019-05-18</td>\n",
       "      <td>6</td>\n",
       "      <td>122</td>\n",
       "      <td>147.74</td>\n",
       "      <td>18023.23</td>\n",
       "      <td>Shipped</td>\n",
       "      <td>Poultry</td>\n",
       "      <td>1</td>\n",
       "      <td>10136</td>\n",
       "      <td>WALMART</td>\n",
       "      <td>Palm Beach</td>\n",
       "      <td>FL</td>\n",
       "      <td>Small</td>\n",
       "      <td>Active</td>\n",
       "      <td>2019-05-18</td>\n",
       "    </tr>\n",
       "    <tr>\n",
       "      <th>2844</th>\n",
       "      <td>12881</td>\n",
       "      <td>2018-11-25</td>\n",
       "      <td>9</td>\n",
       "      <td>159</td>\n",
       "      <td>217.66</td>\n",
       "      <td>34592.59</td>\n",
       "      <td>Shipped</td>\n",
       "      <td>Pork</td>\n",
       "      <td>1</td>\n",
       "      <td>10136</td>\n",
       "      <td>WALMART</td>\n",
       "      <td>Austin</td>\n",
       "      <td>TX</td>\n",
       "      <td>Medium</td>\n",
       "      <td>Active</td>\n",
       "      <td>2018-11-25</td>\n",
       "    </tr>\n",
       "    <tr>\n",
       "      <th>2845</th>\n",
       "      <td>13476</td>\n",
       "      <td>2018-06-27</td>\n",
       "      <td>7</td>\n",
       "      <td>120</td>\n",
       "      <td>155.77</td>\n",
       "      <td>18764.83</td>\n",
       "      <td>Shipped</td>\n",
       "      <td>Fresh Produce Fruits</td>\n",
       "      <td>1</td>\n",
       "      <td>10200</td>\n",
       "      <td>COSTCO</td>\n",
       "      <td>Houston</td>\n",
       "      <td>TX</td>\n",
       "      <td>Small</td>\n",
       "      <td>Active</td>\n",
       "      <td>2018-06-27</td>\n",
       "    </tr>\n",
       "  </tbody>\n",
       "</table>\n",
       "</div>"
      ],
      "text/plain": [
       "      Order_Number  Order_Date  Line_Item_Number  Quantity_Ordered_lbs  \\\n",
       "2843         11835  2019-05-18                 6                   122   \n",
       "2844         12881  2018-11-25                 9                   159   \n",
       "2845         13476  2018-06-27                 7                   120   \n",
       "\n",
       "      Price_Each     Sales   Status      Product_Category  MSRP  Product_Code  \\\n",
       "2843      147.74  18023.23  Shipped               Poultry     1         10136   \n",
       "2844      217.66  34592.59  Shipped                  Pork     1         10136   \n",
       "2845      155.77  18764.83  Shipped  Fresh Produce Fruits     1         10200   \n",
       "\n",
       "     Customer_Name Customer_City Customer_State Deal_Size Customer_Status  \\\n",
       "2843       WALMART    Palm Beach             FL     Small          Active   \n",
       "2844       WALMART        Austin             TX    Medium          Active   \n",
       "2845        COSTCO       Houston             TX     Small          Active   \n",
       "\n",
       "     Order Date  \n",
       "2843 2019-05-18  \n",
       "2844 2018-11-25  \n",
       "2845 2018-06-27  "
      ]
     },
     "execution_count": 201,
     "metadata": {},
     "output_type": "execute_result"
    }
   ],
   "source": [
    "# In this cell, show the last 3 rows of the dataframe\n",
    "# 1 point\n",
    "df.tail(3)"
   ]
  },
  {
   "cell_type": "code",
   "execution_count": 202,
   "id": "9d460819",
   "metadata": {},
   "outputs": [
    {
     "data": {
      "text/plain": [
       "Order_Number                     int64\n",
       "Order_Date                      object\n",
       "Line_Item_Number                 int64\n",
       "Quantity_Ordered_lbs             int64\n",
       "Price_Each                     float64\n",
       "Sales                          float64\n",
       "Status                          object\n",
       "Product_Category                object\n",
       "MSRP                             int64\n",
       "Product_Code                     int64\n",
       "Customer_Name                   object\n",
       "Customer_City                   object\n",
       "Customer_State                  object\n",
       "Deal_Size                       object\n",
       "Customer_Status                 object\n",
       "Order Date              datetime64[ns]\n",
       "dtype: object"
      ]
     },
     "execution_count": 202,
     "metadata": {},
     "output_type": "execute_result"
    }
   ],
   "source": [
    "# In this cell, output the data types of df using dtypes\n",
    "# 1 point\n",
    "df.dtypes"
   ]
  },
  {
   "cell_type": "code",
   "execution_count": 203,
   "id": "5fb63b81",
   "metadata": {},
   "outputs": [
    {
     "name": "stdout",
     "output_type": "stream",
     "text": [
      "<class 'pandas.core.frame.DataFrame'>\n",
      "RangeIndex: 2846 entries, 0 to 2845\n",
      "Data columns (total 16 columns):\n",
      " #   Column                Non-Null Count  Dtype         \n",
      "---  ------                --------------  -----         \n",
      " 0   Order_Number          2846 non-null   int64         \n",
      " 1   Order_Date            2846 non-null   object        \n",
      " 2   Line_Item_Number      2846 non-null   int64         \n",
      " 3   Quantity_Ordered_lbs  2846 non-null   int64         \n",
      " 4   Price_Each            2846 non-null   float64       \n",
      " 5   Sales                 2846 non-null   float64       \n",
      " 6   Status                2846 non-null   object        \n",
      " 7   Product_Category      2846 non-null   object        \n",
      " 8   MSRP                  2846 non-null   int64         \n",
      " 9   Product_Code          2846 non-null   int64         \n",
      " 10  Customer_Name         2832 non-null   object        \n",
      " 11  Customer_City         2832 non-null   object        \n",
      " 12  Customer_State        2832 non-null   object        \n",
      " 13  Deal_Size             2846 non-null   object        \n",
      " 14  Customer_Status       2846 non-null   object        \n",
      " 15  Order Date            2846 non-null   datetime64[ns]\n",
      "dtypes: datetime64[ns](1), float64(2), int64(5), object(8)\n",
      "memory usage: 355.9+ KB\n"
     ]
    }
   ],
   "source": [
    "# In this cell, output the data types of df using info()\n",
    "# 1 point\n",
    "df.info()"
   ]
  },
  {
   "cell_type": "code",
   "execution_count": 204,
   "id": "5d7370fc",
   "metadata": {},
   "outputs": [
    {
     "data": {
      "text/html": [
       "<div>\n",
       "<style scoped>\n",
       "    .dataframe tbody tr th:only-of-type {\n",
       "        vertical-align: middle;\n",
       "    }\n",
       "\n",
       "    .dataframe tbody tr th {\n",
       "        vertical-align: top;\n",
       "    }\n",
       "\n",
       "    .dataframe thead th {\n",
       "        text-align: right;\n",
       "    }\n",
       "</style>\n",
       "<table border=\"1\" class=\"dataframe\">\n",
       "  <thead>\n",
       "    <tr style=\"text-align: right;\">\n",
       "      <th></th>\n",
       "      <th>Order_Number</th>\n",
       "      <th>Line_Item_Number</th>\n",
       "      <th>Quantity_Ordered_lbs</th>\n",
       "      <th>Price_Each</th>\n",
       "      <th>Sales</th>\n",
       "      <th>MSRP</th>\n",
       "      <th>Product_Code</th>\n",
       "    </tr>\n",
       "  </thead>\n",
       "  <tbody>\n",
       "    <tr>\n",
       "      <th>count</th>\n",
       "      <td>2846.000000</td>\n",
       "      <td>2846.000000</td>\n",
       "      <td>2846.000000</td>\n",
       "      <td>2846.000000</td>\n",
       "      <td>2846.000000</td>\n",
       "      <td>2846.0</td>\n",
       "      <td>2846.000000</td>\n",
       "    </tr>\n",
       "    <tr>\n",
       "      <th>mean</th>\n",
       "      <td>13225.094167</td>\n",
       "      <td>6.476458</td>\n",
       "      <td>135.849965</td>\n",
       "      <td>184.354280</td>\n",
       "      <td>25047.324933</td>\n",
       "      <td>1.0</td>\n",
       "      <td>10294.489108</td>\n",
       "    </tr>\n",
       "    <tr>\n",
       "      <th>std</th>\n",
       "      <td>1065.743520</td>\n",
       "      <td>4.229112</td>\n",
       "      <td>17.480825</td>\n",
       "      <td>24.504646</td>\n",
       "      <td>4682.514459</td>\n",
       "      <td>0.0</td>\n",
       "      <td>425.864633</td>\n",
       "    </tr>\n",
       "    <tr>\n",
       "      <th>min</th>\n",
       "      <td>11217.000000</td>\n",
       "      <td>1.000000</td>\n",
       "      <td>84.000000</td>\n",
       "      <td>109.040000</td>\n",
       "      <td>11982.150000</td>\n",
       "      <td>1.0</td>\n",
       "      <td>10120.000000</td>\n",
       "    </tr>\n",
       "    <tr>\n",
       "      <th>25%</th>\n",
       "      <td>12272.000000</td>\n",
       "      <td>3.000000</td>\n",
       "      <td>123.000000</td>\n",
       "      <td>169.492500</td>\n",
       "      <td>21637.840000</td>\n",
       "      <td>1.0</td>\n",
       "      <td>10136.000000</td>\n",
       "    </tr>\n",
       "    <tr>\n",
       "      <th>50%</th>\n",
       "      <td>13244.000000</td>\n",
       "      <td>6.000000</td>\n",
       "      <td>136.000000</td>\n",
       "      <td>186.800000</td>\n",
       "      <td>25026.415000</td>\n",
       "      <td>1.0</td>\n",
       "      <td>10136.000000</td>\n",
       "    </tr>\n",
       "    <tr>\n",
       "      <th>75%</th>\n",
       "      <td>14180.000000</td>\n",
       "      <td>9.000000</td>\n",
       "      <td>149.000000</td>\n",
       "      <td>202.902500</td>\n",
       "      <td>28288.357500</td>\n",
       "      <td>1.0</td>\n",
       "      <td>10148.000000</td>\n",
       "    </tr>\n",
       "    <tr>\n",
       "      <th>max</th>\n",
       "      <td>15269.000000</td>\n",
       "      <td>18.000000</td>\n",
       "      <td>194.000000</td>\n",
       "      <td>224.770000</td>\n",
       "      <td>41566.120000</td>\n",
       "      <td>1.0</td>\n",
       "      <td>11500.000000</td>\n",
       "    </tr>\n",
       "  </tbody>\n",
       "</table>\n",
       "</div>"
      ],
      "text/plain": [
       "       Order_Number  Line_Item_Number  Quantity_Ordered_lbs   Price_Each  \\\n",
       "count   2846.000000       2846.000000           2846.000000  2846.000000   \n",
       "mean   13225.094167          6.476458            135.849965   184.354280   \n",
       "std     1065.743520          4.229112             17.480825    24.504646   \n",
       "min    11217.000000          1.000000             84.000000   109.040000   \n",
       "25%    12272.000000          3.000000            123.000000   169.492500   \n",
       "50%    13244.000000          6.000000            136.000000   186.800000   \n",
       "75%    14180.000000          9.000000            149.000000   202.902500   \n",
       "max    15269.000000         18.000000            194.000000   224.770000   \n",
       "\n",
       "              Sales    MSRP  Product_Code  \n",
       "count   2846.000000  2846.0   2846.000000  \n",
       "mean   25047.324933     1.0  10294.489108  \n",
       "std     4682.514459     0.0    425.864633  \n",
       "min    11982.150000     1.0  10120.000000  \n",
       "25%    21637.840000     1.0  10136.000000  \n",
       "50%    25026.415000     1.0  10136.000000  \n",
       "75%    28288.357500     1.0  10148.000000  \n",
       "max    41566.120000     1.0  11500.000000  "
      ]
     },
     "execution_count": 204,
     "metadata": {},
     "output_type": "execute_result"
    }
   ],
   "source": [
    "# In this cell, show the output on df of describe()\n",
    "# 1 point\n",
    "df.describe()"
   ]
  },
  {
   "cell_type": "code",
   "execution_count": 205,
   "id": "c21b067d",
   "metadata": {},
   "outputs": [
    {
     "data": {
      "application/vnd.jupyter.widget-view+json": {
       "model_id": "3ce066582ef54cd4832f26f0c5241c6f",
       "version_major": 2,
       "version_minor": 0
      },
      "text/plain": [
       "Summarize dataset:   0%|          | 0/5 [00:00<?, ?it/s]"
      ]
     },
     "metadata": {},
     "output_type": "display_data"
    },
    {
     "data": {
      "application/vnd.jupyter.widget-view+json": {
       "model_id": "acea56d4bfa44594a6e77bc63e40e511",
       "version_major": 2,
       "version_minor": 0
      },
      "text/plain": [
       "Generate report structure:   0%|          | 0/1 [00:00<?, ?it/s]"
      ]
     },
     "metadata": {},
     "output_type": "display_data"
    },
    {
     "data": {
      "application/vnd.jupyter.widget-view+json": {
       "model_id": "",
       "version_major": 2,
       "version_minor": 0
      },
      "text/plain": [
       "Render widgets:   0%|          | 0/1 [00:00<?, ?it/s]"
      ]
     },
     "metadata": {},
     "output_type": "display_data"
    },
    {
     "data": {
      "application/vnd.jupyter.widget-view+json": {
       "model_id": "b946516c95f0440291442a7dc2965f1d",
       "version_major": 2,
       "version_minor": 0
      },
      "text/plain": [
       "VBox(children=(Tab(children=(Tab(children=(GridBox(children=(VBox(children=(GridspecLayout(children=(HTML(valu…"
      ]
     },
     "metadata": {},
     "output_type": "display_data"
    }
   ],
   "source": [
    "# In this cell, run a profile report using Pandas Profiling outputting the results in this notebook\n",
    "# Note: Pandas Profiling has been imported below--if you receive an error, trying uncommenting and running the pip install below:\n",
    "# pip install pandas-profiling\n",
    "# 2 points\n",
    "\n",
    "from pandas_profiling import ProfileReport\n",
    "profile = ProfileReport (df, title = \"Report\")\n",
    "profile.to_widgets()"
   ]
  },
  {
   "cell_type": "markdown",
   "id": "91ef048a",
   "metadata": {},
   "source": [
    "## 02 Exploratory Data Analysis"
   ]
  },
  {
   "cell_type": "code",
   "execution_count": 206,
   "id": "e9b5a81e",
   "metadata": {},
   "outputs": [
    {
     "name": "stdout",
     "output_type": "stream",
     "text": [
      "Column Name:  Order_Date Unique Values:  252\n",
      "Column Name:  Status Unique Values:  1\n",
      "Column Name:  Product_Category Unique Values:  7\n",
      "Column Name:  Customer_Name Unique Values:  2\n",
      "Column Name:  Customer_City Unique Values:  21\n",
      "Column Name:  Customer_State Unique Values:  4\n",
      "Column Name:  Deal_Size Unique Values:  3\n",
      "Column Name:  Customer_Status Unique Values:  1\n"
     ]
    }
   ],
   "source": [
    "# In this cell, using a loop over all the columns in df, \n",
    "# print the column name and the number of unique values using nunique() on the object columns only using dtype\n",
    "# 4 points\n",
    "\n",
    "for col in df.columns:\n",
    "    if df[col].dtype == 'object':\n",
    "        print('Column Name: ', col, 'Unique Values: ', df[col].nunique())"
   ]
  },
  {
   "cell_type": "code",
   "execution_count": 207,
   "id": "4ae99f7e",
   "metadata": {},
   "outputs": [
    {
     "name": "stdout",
     "output_type": "stream",
     "text": [
      "295\n"
     ]
    }
   ],
   "source": [
    "# In this cell, run nunique() again for the column with the most unique values\n",
    "# 1 point\n",
    "\n",
    "print(df['Order_Number'].nunique())"
   ]
  },
  {
   "cell_type": "code",
   "execution_count": 208,
   "id": "b942656f",
   "metadata": {},
   "outputs": [
    {
     "name": "stdout",
     "output_type": "stream",
     "text": [
      "['Poultry' 'Fresh Produce Vegetables' 'Pork' 'Fresh Produce Fruits' 'Beef'\n",
      " 'Dairy' 'Bread']\n"
     ]
    }
   ],
   "source": [
    "# In this cell, show unique values on the Product Category column\n",
    "# 2 points\n",
    "\n",
    "print(df['Product_Category'].unique())"
   ]
  },
  {
   "cell_type": "code",
   "execution_count": 209,
   "id": "348003a0",
   "metadata": {},
   "outputs": [
    {
     "name": "stdout",
     "output_type": "stream",
     "text": [
      "WALMART    1559\n",
      "COSTCO     1273\n",
      "Name: Customer_Name, dtype: int64\n"
     ]
    }
   ],
   "source": [
    "# In this cell, show value counts on Customer Name\n",
    "# 1 point\n",
    "\n",
    "print(df['Customer_Name'].value_counts())"
   ]
  },
  {
   "cell_type": "code",
   "execution_count": 210,
   "id": "d05153e7",
   "metadata": {},
   "outputs": [
    {
     "name": "stdout",
     "output_type": "stream",
     "text": [
      "Fresh Produce Vegetables    972\n",
      "Fresh Produce Fruits        615\n",
      "Poultry                     337\n",
      "Beef                        306\n",
      "Pork                        302\n",
      "Dairy                       237\n",
      "Bread                        77\n",
      "Name: Product_Category, dtype: int64\n"
     ]
    }
   ],
   "source": [
    "# In this cell, show value counts on Product Category\n",
    "# 1 point\n",
    "\n",
    "print(df['Product_Category'].value_counts())"
   ]
  },
  {
   "cell_type": "code",
   "execution_count": 211,
   "id": "dd691b4a",
   "metadata": {},
   "outputs": [
    {
     "name": "stdout",
     "output_type": "stream",
     "text": [
      "Beef                        306\n",
      "Bread                        77\n",
      "Dairy                       237\n",
      "Fresh Produce Fruits        615\n",
      "Fresh Produce Vegetables    972\n",
      "Pork                        302\n",
      "Poultry                     337\n",
      "Name: Product_Category, dtype: int64\n"
     ]
    }
   ],
   "source": [
    "# In this cell, show value counts on Product Cateogry sorted by the index\n",
    "# 3 points\n",
    "\n",
    "print(df['Product_Category'].value_counts().sort_index())"
   ]
  },
  {
   "cell_type": "code",
   "execution_count": 212,
   "id": "805d4e1d",
   "metadata": {},
   "outputs": [
    {
     "name": "stdout",
     "output_type": "stream",
     "text": [
      "Houston           428\n",
      "San Antonio       337\n",
      "Corpus Christi    200\n",
      "Dallas            187\n",
      "Fort Worth        181\n",
      "Name: Customer_City, dtype: int64\n"
     ]
    }
   ],
   "source": [
    "# In this cell, show the top 5 value counts on Customer City\n",
    "# 3 points\n",
    "\n",
    "print(df['Customer_City'].value_counts().head(5))"
   ]
  },
  {
   "cell_type": "markdown",
   "id": "cfd4ba34",
   "metadata": {},
   "source": [
    "## 03 Data Visualization"
   ]
  },
  {
   "cell_type": "code",
   "execution_count": 213,
   "id": "2ab291fd",
   "metadata": {},
   "outputs": [],
   "source": [
    "# In this cell, create a bar plot with Seaborn showing Product Category on the x-axis and the dataframe index on the y-axis\n",
    "# Title the plot \"Product Category\"\n",
    "# Show a rotation of 75 on the xticks\n",
    "# 5 points\n",
    "\n",
    "import matplotlib\n",
    "matplotlib.use('TkAgg')\n",
    "\n",
    "# Create bar plot\n",
    "sns.countplot(x='Product_Category', data=df, order=df['Product_Category'].value_counts().index)\n",
    "plt.xticks(rotation=75)\n",
    "plt.title('Product Category')\n",
    "\n",
    "# Show the plot\n",
    "plt.show()\n"
   ]
  },
  {
   "cell_type": "code",
   "execution_count": 214,
   "id": "cb782d1c",
   "metadata": {},
   "outputs": [],
   "source": [
    "# In this cell, create a histogram with Matplotlib showing Sales\n",
    "# Use 30 bins\n",
    "# Set green ('g') as the color\n",
    "# 4 points\n",
    "\n",
    "# Create histogram\n",
    "plt.hist(df['Sales'], bins=30, color = 'g')\n",
    "\n",
    "# Add labels and title\n",
    "plt.xlabel('Sales')\n",
    "plt.ylabel('Frequency')\n",
    "plt.title('Histogram of Sales')\n",
    "\n",
    "# Show the plot\n",
    "plt.show()"
   ]
  },
  {
   "cell_type": "code",
   "execution_count": 215,
   "id": "34dd6d26",
   "metadata": {},
   "outputs": [],
   "source": [
    "# In this cell, create a box plot with Seaborn for Sales\n",
    "# 1.5 points\n",
    "\n",
    "# Create box plot\n",
    "\n",
    "# Add title\n",
    "\n",
    "# Show the plot\n",
    "df['Sales'] = df['Sales'].astype(float)\n",
    "sns.boxplot(x=df['Sales'])\n",
    "plt.xlabel('Sales')\n",
    "plt.title('Sales Boxplot')\n",
    "plt.show()"
   ]
  },
  {
   "cell_type": "code",
   "execution_count": 216,
   "id": "7afc9230",
   "metadata": {},
   "outputs": [
    {
     "name": "stderr",
     "output_type": "stream",
     "text": [
      "C:\\ProgramData\\Anaconda3\\lib\\site-packages\\seaborn\\_decorators.py:36: FutureWarning: Pass the following variable as a keyword arg: x. From version 0.12, the only valid positional argument will be `data`, and passing other arguments without an explicit keyword will result in an error or misinterpretation.\n",
      "  warnings.warn(\n"
     ]
    }
   ],
   "source": [
    "# In this cell, create a box plot with Seaborn for Quantity Ordered\n",
    "# 1.5 points\n",
    "\n",
    "# Create box plot\n",
    "x = df['Quantity_Ordered_lbs']\n",
    "sns.boxplot(x)\n",
    "\n",
    "# Add title\n",
    "plt.title('Quantity Ordered Box Plot')\n",
    "plt.show()\n"
   ]
  },
  {
   "cell_type": "code",
   "execution_count": 217,
   "id": "e4ff2315",
   "metadata": {},
   "outputs": [],
   "source": [
    "# In this cell, create a scatter plot with Matplotlib with Quantity Ordered on the x-axis \n",
    "# and Price Each on the y-axis\n",
    "# Set the alpha value to 0.75\n",
    "# 4 points\n",
    "\n",
    "# Create scatter plot\n",
    "plt.scatter(x=df['Quantity_Ordered_lbs'], y=df['Price_Each'], alpha=0.75)\n",
    "\n",
    "# Add labels\n",
    "plt.xlabel('Quantity Ordered')\n",
    "plt.ylabel('Price Each')\n",
    "\n",
    "# Show plot\n",
    "plt.show()"
   ]
  },
  {
   "cell_type": "code",
   "execution_count": 218,
   "id": "1cae6960",
   "metadata": {},
   "outputs": [],
   "source": [
    "# In this cell, create a pairplot using Seaborn on the dataframe\n",
    "# 1 point\n",
    "\n",
    "sns.pairplot(df)\n",
    "plt.show()"
   ]
  },
  {
   "cell_type": "code",
   "execution_count": 219,
   "id": "c2dc3a0e",
   "metadata": {},
   "outputs": [],
   "source": [
    "# In this cell, create a correlation heatmap using Seaborn of Quantity Ordered, Price Each, and Sales\n",
    "# Use the Pearson method\n",
    "# Set the vmin to -1 \n",
    "# Set the vmax to 1 \n",
    "# Set annot to True\n",
    "# 6 points\n",
    "sns.set_style(\"white\")\n",
    "corr = df[['Quantity_Ordered_lbs', 'Price_Each', 'Sales']].corr(method='pearson')\n",
    "sns.heatmap(corr, vmin=-1, vmax=1, annot=True)\n",
    "plt.title('Correlation Heatmap of Quantity Ordered, Price Each, and Sales')\n",
    "plt.show()"
   ]
  },
  {
   "cell_type": "markdown",
   "id": "e9f21268",
   "metadata": {},
   "source": [
    "## 04 Additional Exploratory Data Analysis & Initial Cleaning"
   ]
  },
  {
   "cell_type": "code",
   "execution_count": 220,
   "id": "365afed7",
   "metadata": {},
   "outputs": [
    {
     "name": "stdout",
     "output_type": "stream",
     "text": [
      "   Order_Number  Order_Date  Line_Item_Number  Quantity_Ordered_lbs  \\\n",
      "0         11411  2018-01-06                 1                   161   \n",
      "1         11411  2018-01-06                 2                   164   \n",
      "2         11411  2018-01-06                 3                   128   \n",
      "3         11411  2018-01-06                 4                   106   \n",
      "4         11783  2018-01-09                 1                   134   \n",
      "\n",
      "   Price_Each     Sales   Status      Product_Category  MSRP  Product_Code  \\\n",
      "0      150.66  24275.32  Shipped  Fresh Produce Fruits     1         10148   \n",
      "1      175.91  28873.34  Shipped  Fresh Produce Fruits     1         10136   \n",
      "2      216.74  27667.74  Shipped  Fresh Produce Fruits     1         10136   \n",
      "3      192.45  20364.47  Shipped  Fresh Produce Fruits     1         10136   \n",
      "4      183.80  24717.56  Shipped  Fresh Produce Fruits     1         10136   \n",
      "\n",
      "  Customer_Name Customer_City Customer_State Deal_Size Customer_Status  \\\n",
      "0       WALMART       Houston             TX     Small          Active   \n",
      "1       WALMART       Houston             TX    Medium          Active   \n",
      "2       WALMART       Houston             TX    Medium          Active   \n",
      "3       WALMART       Houston             TX     Small          Active   \n",
      "4       WALMART     Galveston             TX    Medium          Active   \n",
      "\n",
      "  Order Date  \n",
      "0 2018-01-06  \n",
      "1 2018-01-06  \n",
      "2 2018-01-06  \n",
      "3 2018-01-06  \n",
      "4 2018-01-09  \n"
     ]
    }
   ],
   "source": [
    "# In this cell, overwrite the current df by sorting the dataset by Order Date and Line Item Number\n",
    "# Reset the index setting the drop argument to True \n",
    "# Show the head of the dataframe\n",
    "# 6 points\n",
    "\n",
    "df = df.sort_values(by=['Order_Date', 'Line_Item_Number'])\n",
    "df = df.reset_index(drop=True)\n",
    "print(df.head())\n"
   ]
  },
  {
   "cell_type": "code",
   "execution_count": 221,
   "id": "addc0f00",
   "metadata": {},
   "outputs": [
    {
     "name": "stdout",
     "output_type": "stream",
     "text": [
      "      Order_Date  Line_Item_Number  Quantity_Ordered_lbs  Price_Each     Sales\n",
      "500   2018-10-05                10                   148      131.75  19561.59\n",
      "501   2018-10-05                11                   147      195.41  28728.00\n",
      "502   2018-10-06                 1                   142      211.02  30060.93\n",
      "503   2018-10-06                 1                   157      167.45  26277.51\n",
      "504   2018-10-06                 2                   149      190.33  28280.82\n",
      "...          ...               ...                   ...         ...       ...\n",
      "996   2018-12-09                 2                   159      170.54  27193.91\n",
      "997   2018-12-09                 3                   107      195.81  21015.17\n",
      "998   2018-12-09                 4                   149      149.62  22359.47\n",
      "999   2018-12-09                 5                   107      181.69  19388.75\n",
      "1000  2018-12-09                 6                   133      175.10  23298.56\n",
      "\n",
      "[501 rows x 5 columns]\n"
     ]
    }
   ],
   "source": [
    "# In this cell, create a dataframe called df_snapshot \n",
    "# using iloc of rows 500 to 1000 (with 1000 included in the output) \n",
    "# and columns 1 to 6 (Order Date to Sales with Sales included in the output)\n",
    "# 4 points\n",
    "\n",
    "df_snapshot = df.iloc[500:1001, 1:6]\n",
    "print(df_snapshot)"
   ]
  },
  {
   "cell_type": "code",
   "execution_count": 222,
   "id": "8659c78b",
   "metadata": {},
   "outputs": [
    {
     "data": {
      "text/html": [
       "<div>\n",
       "<style scoped>\n",
       "    .dataframe tbody tr th:only-of-type {\n",
       "        vertical-align: middle;\n",
       "    }\n",
       "\n",
       "    .dataframe tbody tr th {\n",
       "        vertical-align: top;\n",
       "    }\n",
       "\n",
       "    .dataframe thead th {\n",
       "        text-align: right;\n",
       "    }\n",
       "</style>\n",
       "<table border=\"1\" class=\"dataframe\">\n",
       "  <thead>\n",
       "    <tr style=\"text-align: right;\">\n",
       "      <th></th>\n",
       "      <th>Product_Category</th>\n",
       "      <th>Order_Date</th>\n",
       "      <th>Line_Item_Number</th>\n",
       "      <th>Quantity_Ordered_lbs</th>\n",
       "      <th>Price_Each</th>\n",
       "      <th>Sales</th>\n",
       "    </tr>\n",
       "  </thead>\n",
       "  <tbody>\n",
       "    <tr>\n",
       "      <th>0</th>\n",
       "      <td>Fresh Produce Fruits</td>\n",
       "      <td>2018-01-06</td>\n",
       "      <td>1</td>\n",
       "      <td>161</td>\n",
       "      <td>150.66</td>\n",
       "      <td>24275.32</td>\n",
       "    </tr>\n",
       "    <tr>\n",
       "      <th>1</th>\n",
       "      <td>Fresh Produce Fruits</td>\n",
       "      <td>2018-01-06</td>\n",
       "      <td>2</td>\n",
       "      <td>164</td>\n",
       "      <td>175.91</td>\n",
       "      <td>28873.34</td>\n",
       "    </tr>\n",
       "    <tr>\n",
       "      <th>2</th>\n",
       "      <td>Fresh Produce Fruits</td>\n",
       "      <td>2018-01-06</td>\n",
       "      <td>3</td>\n",
       "      <td>128</td>\n",
       "      <td>216.74</td>\n",
       "      <td>27667.74</td>\n",
       "    </tr>\n",
       "  </tbody>\n",
       "</table>\n",
       "</div>"
      ],
      "text/plain": [
       "       Product_Category  Order_Date  Line_Item_Number  Quantity_Ordered_lbs  \\\n",
       "0  Fresh Produce Fruits  2018-01-06                 1                   161   \n",
       "1  Fresh Produce Fruits  2018-01-06                 2                   164   \n",
       "2  Fresh Produce Fruits  2018-01-06                 3                   128   \n",
       "\n",
       "   Price_Each     Sales  \n",
       "0      150.66  24275.32  \n",
       "1      175.91  28873.34  \n",
       "2      216.74  27667.74  "
      ]
     },
     "execution_count": 222,
     "metadata": {},
     "output_type": "execute_result"
    }
   ],
   "source": [
    "# In this cell, create a dataframe called df_produce_fruits \n",
    "# filtered to where Product Category is \"Fresh Produce Fruits\" \n",
    "# Only keep the following columns: Product Category, Order Date, Line Item Number, Quantity Ordered, Price Each, and Sales\n",
    "# Reset the index setting drop to True \n",
    "# Be sure to use copy()\n",
    "# Show the first 3 rows of df_produce_fruits\n",
    "# 7 points\n",
    "\n",
    "df_produce_fruits = df.loc[df[\"Product_Category\"] == \"Fresh Produce Fruits\",\n",
    "                           [\"Product_Category\", \"Order_Date\", \"Line_Item_Number\", \"Quantity_Ordered_lbs\", \"Price_Each\", \"Sales\"]]\n",
    "df_produce_fruits = df_produce_fruits.reset_index(drop=True).copy()\n",
    "df_produce_fruits.head(3)\n"
   ]
  },
  {
   "cell_type": "code",
   "execution_count": 223,
   "id": "1c93602d",
   "metadata": {},
   "outputs": [
    {
     "data": {
      "text/plain": [
       "True"
      ]
     },
     "execution_count": 223,
     "metadata": {},
     "output_type": "execute_result"
    }
   ],
   "source": [
    "# In this cell, run duplicated() and any() to determine if the dataframe (df) has any duplicates\n",
    "# 3 points\n",
    "\n",
    "df.duplicated().any()"
   ]
  },
  {
   "cell_type": "code",
   "execution_count": 224,
   "id": "6642f8de",
   "metadata": {},
   "outputs": [
    {
     "name": "stdout",
     "output_type": "stream",
     "text": [
      "There are 10 duplicate rows in df\n"
     ]
    }
   ],
   "source": [
    "# In this cell, run duplicated() and sum() to report the number of duplicates in df\n",
    "# 3 points\n",
    "\n",
    "num_duplicates = sum(df.duplicated())\n",
    "print(f\"There are {num_duplicates} duplicate rows in df\")"
   ]
  },
  {
   "cell_type": "code",
   "execution_count": 225,
   "id": "f812569b",
   "metadata": {},
   "outputs": [
    {
     "name": "stdout",
     "output_type": "stream",
     "text": [
      "Original Shape: (2846, 16)\n",
      "New Shape: (2836, 16)\n"
     ]
    }
   ],
   "source": [
    "# In this cell, print the shape of df\n",
    "# Drop duplicates in place using drop_duplicates()\n",
    "# Print the new shape of the dataframe\n",
    "# 4 points\n",
    "\n",
    "# Print the shape of df\n",
    "print(\"Original Shape:\", df.shape)\n",
    "\n",
    "# Drop duplicates in place\n",
    "df.drop_duplicates(inplace=True)\n",
    "\n",
    "# Print the new shape of the dataframe\n",
    "print(\"New Shape:\", df.shape)\n"
   ]
  },
  {
   "cell_type": "code",
   "execution_count": 226,
   "id": "5e1e0322",
   "metadata": {},
   "outputs": [],
   "source": [
    "# Functions used for identifying mixed data types\n",
    "def get_column_data_types(df):\n",
    "    \"\"\"Returns a dictionary of each column listing the data types within the column\"\"\"\n",
    "    \n",
    "    multiple_types = {}\n",
    "    \n",
    "    for col in df.columns:\n",
    "        types_df = df[col].dropna().apply(lambda x: x.__class__).value_counts()\n",
    "        if types_df.shape[0] > 1:\n",
    "            multiple_types[col] = types_df.index.values.tolist()\n",
    "      \n",
    "    return multiple_types\n",
    "\n",
    "\n",
    "def has_multi_types_within_col(df):   \n",
    "    \"\"\"Returns True if any column in the df has multiple data types within the column\"\"\"\n",
    "    \n",
    "    return len(get_column_data_types(df).keys()) > 0"
   ]
  },
  {
   "cell_type": "code",
   "execution_count": 227,
   "id": "bba50ddf",
   "metadata": {},
   "outputs": [
    {
     "name": "stdout",
     "output_type": "stream",
     "text": [
      "False\n"
     ]
    }
   ],
   "source": [
    "# In this cell, execute the has_multi_types_within_col function and print the output to show if any columns have more than one data type on df\n",
    "# 2 points\n",
    "\n",
    "print(has_multi_types_within_col(df))"
   ]
  },
  {
   "cell_type": "code",
   "execution_count": 228,
   "id": "d2cf3324",
   "metadata": {},
   "outputs": [
    {
     "name": "stdout",
     "output_type": "stream",
     "text": [
      "No columns have mixed data types.\n"
     ]
    }
   ],
   "source": [
    "# In this cell, execute the get_column_data_types function on the dataframe and print the output to show the column and data \n",
    "# types of mixed data type columns, if there are any\n",
    "# 2 points\n",
    "\n",
    "mixed_types = get_column_data_types(df)\n",
    "if mixed_types:\n",
    "    for col, types in mixed_types.items():\n",
    "        print(f\"Column '{col}' has mixed data types: {types}\")\n",
    "else:\n",
    "    print(\"No columns have mixed data types.\")"
   ]
  },
  {
   "cell_type": "code",
   "execution_count": 229,
   "id": "ba2713a3",
   "metadata": {},
   "outputs": [
    {
     "name": "stdout",
     "output_type": "stream",
     "text": [
      "['Status', 'MSRP', 'Customer_Status']\n"
     ]
    }
   ],
   "source": [
    "# In this cell, execute the get_single_value_cols function to determine if any columns have one single value on df\n",
    "# 2 points\n",
    "def get_single_value_cols(df):\n",
    "    '''Returns list of columns that contain only one value'''\n",
    "    \n",
    "    single_val_cols = []\n",
    "    for col in df.columns:\n",
    "        if len(df[col].unique()) == 1:\n",
    "            single_val_cols.append(col)\n",
    "            \n",
    "    return single_val_cols\n",
    "\n",
    "print(get_single_value_cols(df))"
   ]
  },
  {
   "cell_type": "code",
   "execution_count": 230,
   "id": "e35b8881",
   "metadata": {},
   "outputs": [
    {
     "name": "stdout",
     "output_type": "stream",
     "text": [
      "(2836, 13)\n",
      "   Order_Number  Order_Date  Line_Item_Number  Quantity_Ordered_lbs  \\\n",
      "0         11411  2018-01-06                 1                   161   \n",
      "1         11411  2018-01-06                 2                   164   \n",
      "2         11411  2018-01-06                 3                   128   \n",
      "\n",
      "   Price_Each     Sales      Product_Category  Product_Code Customer_Name  \\\n",
      "0      150.66  24275.32  Fresh Produce Fruits         10148       WALMART   \n",
      "1      175.91  28873.34  Fresh Produce Fruits         10136       WALMART   \n",
      "2      216.74  27667.74  Fresh Produce Fruits         10136       WALMART   \n",
      "\n",
      "  Customer_City Customer_State Deal_Size Order Date  \n",
      "0       Houston             TX     Small 2018-01-06  \n",
      "1       Houston             TX    Medium 2018-01-06  \n",
      "2       Houston             TX    Medium 2018-01-06  \n"
     ]
    }
   ],
   "source": [
    "# In this cell, drop columns identified in the output of get_single_value_cols in place using drop() \n",
    "# Set in place to True \n",
    "# Print the dataframe shape after dropping single value cols\n",
    "# Show the first 3 rows of the dataframe\n",
    "# 5 points\n",
    "\n",
    "get_single_value_cols = get_single_value_cols(df)\n",
    "df.drop(get_single_value_cols, axis=1, inplace=True)\n",
    "\n",
    "print(df.shape)\n",
    "print(df.head(3))"
   ]
  },
  {
   "cell_type": "code",
   "execution_count": null,
   "id": "307ae055",
   "metadata": {},
   "outputs": [],
   "source": []
  }
 ],
 "metadata": {
  "kernelspec": {
   "display_name": "Python 3 (ipykernel)",
   "language": "python",
   "name": "python3"
  },
  "language_info": {
   "codemirror_mode": {
    "name": "ipython",
    "version": 3
   },
   "file_extension": ".py",
   "mimetype": "text/x-python",
   "name": "python",
   "nbconvert_exporter": "python",
   "pygments_lexer": "ipython3",
   "version": "3.9.13"
  }
 },
 "nbformat": 4,
 "nbformat_minor": 5
}
